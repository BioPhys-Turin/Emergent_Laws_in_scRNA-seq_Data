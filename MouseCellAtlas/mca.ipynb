{
 "cells": [
  {
   "cell_type": "code",
   "execution_count": null,
   "metadata": {
    "Collapsed": "false",
    "slideshow": {
     "slide_type": "slide"
    }
   },
   "outputs": [],
   "source": [
    "import os, sys, gc, pickle\n",
    "import pandas as pd\n",
    "import numpy as np\n",
    "import matplotlib.pyplot as plt\n",
    "from scipy import stats\n",
    "\n",
    "import itertools\n",
    "import seaborn as sns\n",
    "\n",
    "from frontiers_colors import get_color\n",
    "from frontiers_analysis import heaps, load_tissue, save_model, mazzolini\n",
    "\n",
    "from tableanalyser import plotvarmen, plotcv2mean\n",
    "from tacos_plot import scatterdense"
   ]
  },
  {
   "cell_type": "markdown",
   "metadata": {
    "Collapsed": "false"
   },
   "source": [
    "# Load Data"
   ]
  },
  {
   "cell_type": "markdown",
   "metadata": {},
   "source": [
    "Choose data source:\n",
    "* mca for Mouse Cell Atlas (default)\n",
    "* tm for Tabula Muris\n",
    "* gtex for GTex"
   ]
  },
  {
   "cell_type": "code",
   "execution_count": null,
   "metadata": {
    "Collapsed": "false"
   },
   "outputs": [],
   "source": [
    "data_source = \"mca\"\n",
    "os.system(f\"mkdir -p {data_source}\")\n",
    "files = os.listdir(data_source)"
   ]
  },
  {
   "cell_type": "code",
   "execution_count": null,
   "metadata": {
    "Collapsed": "false"
   },
   "outputs": [],
   "source": [
    "# Download all the files for MCA\n",
    "from frontiers_analysis import get_files\n",
    "get_files()"
   ]
  },
  {
   "cell_type": "markdown",
   "metadata": {},
   "source": [
    "Download the following files from original dataset\n",
    "[https://figshare.com/s/865e694ad06d5857db4b](https://figshare.com/s/865e694ad06d5857db4b):\n",
    "* *MCA_Figure2_Cell.Info.xlsx*\n",
    "* *MCA_CellAssignments.csv*"
   ]
  },
  {
   "cell_type": "code",
   "execution_count": null,
   "metadata": {
    "Collapsed": "false"
   },
   "outputs": [],
   "source": [
    "df_info = pd.read_excel(\"MCA_Figure2_Cell.Info.xlsx\", index_col=0)\n",
    "\n",
    "df_info['Tissue'] = list(map(lambda ann: ann.replace(\"Adult\",\"\"), df_info['Tissue'])) #remove adult or fetal\n",
    "df_info['Tissue'] = list(map(lambda ann: ann.replace(\"Fetal\",\"\"), df_info['Tissue'])) #remove adult or fetal\n",
    "df_info['Tissue'] = list(map(lambda ann: ann.replace(\"Neonatal\",\"\"), df_info['Tissue'])) #remove adult or fetal\n",
    "df_info.info()"
   ]
  },
  {
   "cell_type": "code",
   "execution_count": null,
   "metadata": {
    "Collapsed": "false"
   },
   "outputs": [],
   "source": [
    "df_file=pd.read_csv(\"MCA_CellAssignments.csv\", index_col=0).set_index('Cell.name')\n",
    "df_file['Cell_type'] = list(map(lambda ann: ann.split('(')[0].split(' ')[0], df_file['Annotation'])) #remove adult or fetal\n",
    "print(df_file.info())\n",
    "print(df_file['Tissue'].unique())\n",
    "print(df_file['Cell_type'].unique())\n",
    "df_file.head()"
   ]
  },
  {
   "cell_type": "code",
   "execution_count": null,
   "metadata": {
    "Collapsed": "false"
   },
   "outputs": [],
   "source": [
    "df_info = df_file\n",
    "df_info[\"id\"] = df_file.index.values\n",
    "df_info.rename(columns={'Tissue':'tissue',\"id\": \"Cell_id\"}, inplace=True)\n",
    "df_info.info()"
   ]
  },
  {
   "cell_type": "code",
   "execution_count": null,
   "metadata": {},
   "outputs": [],
   "source": [
    "files = list(filter(lambda f: \"dge\" in f,  os.listdir(data_source)))\n",
    "files"
   ]
  },
  {
   "cell_type": "markdown",
   "metadata": {
    "Collapsed": "false"
   },
   "source": [
    "# Analyse organs and store data\n",
    "Here some files with all the analyses will be stored, this take a long time."
   ]
  },
  {
   "cell_type": "code",
   "execution_count": null,
   "metadata": {
    "Collapsed": "false"
   },
   "outputs": [],
   "source": [
    "print(files[0])\n",
    "\n",
    "saved = []\n",
    "frac_of = {}\n",
    "\n",
    "if \"mca\" in data_source:\n",
    "    data = pd.read_csv(f\"{data_source}/{files[0]}\", sep=\" \")\n",
    "    data = data[data.columns[data.columns.isin(df_info['Cell_id'])]]\n",
    "\n",
    "    #tissues = df_info[df_info['Cell_id'].isin(data.columns) & (df_info['Development_stage']=='Adult')]['tissue'].unique() # only adults\n",
    "    tissues = df_info[df_info['Cell_id'].isin(data.columns)]['tissue'].unique()\n",
    "\n",
    "if \"tm\" in data_source:\n",
    "    tissues = [files[0]]\n",
    "\n",
    "\n",
    "print(tissues)\n",
    "for tissue in tissues:\n",
    "    if \"mca\" in data_source:\n",
    "        df = data.reindex(columns=df_info[df_info['Cell_id'].isin(data.columns) & (df_info['tissue']==tissue)]['Cell_id'])\n",
    "        #df = df.divide(df.sum(0), 1).applymap(lambda cpm: np.log(cpm*1e6+1)) #log(cpm +1)\n",
    "    \n",
    "    if \"tm\" in data_source:\n",
    "        df = pd.read_csv(f\"{data_source}/{files[0]}\", sep=\",\", index_col=0) #tabula muris\n",
    "        df = clean_df(df) #tabula muris\n",
    "    \n",
    "    A = df.sum(axis=1)\n",
    "    O = df.apply(lambda x: len(x[x>0]), 1)\n",
    "    M = df.apply(np.sum, 0)\n",
    "    cell_zeros = df.astype(int).apply(lambda x: len(x[x==0]), 0)\n",
    "    gene_presence = df.apply(lambda x: len(x[~x.isna()]), 1).astype(int)\n",
    "    gene_presence_nonnull = df.apply(lambda x: len(x[~x.isna() & (x>0)]), 1).astype(int)\n",
    "    var = df.apply(lambda x: (x*x).sum(), 1)\n",
    "    \n",
    "    frac_of[tissue] = {'data': A,\n",
    "                            'N': len(M)}\n",
    "    \n",
    "    diffWords = df.apply(lambda x: len(x[x>0]), 0)\n",
    "    n_genes = {}\n",
    "    n_genes[tissue] = diffWords\n",
    "    \n",
    "    n_expressed_genes = pd.Series(index=df.index, data=np.zeros_like(df.index))\n",
    "    n_expressed_genes[A.sort_values(ascending=False).index[:100]]+=1\n",
    "    save_model(df, \"data\", tissue)\n",
    "    #mazzolini(M, A/A.sum(), tissue)\n",
    "    #null_model(df, M, A/gene_presence_nonnull)\n",
    "    #heaps(M, diffWords, tissue)\n",
    "    \n",
    "    saved.append(tissue)\n",
    "    df.to_csv(f\"{data_source}/mainTable_{tissue}.csv\", index=True, header=True)"
   ]
  },
  {
   "cell_type": "code",
   "execution_count": null,
   "metadata": {
    "Collapsed": "false"
   },
   "outputs": [],
   "source": [
    "for file in files[1:]:\n",
    "    print(file)\n",
    "    if \"mca\" in data_source:\n",
    "        data = pd.read_csv(f\"{data_source}/{file}\", sep=\" \")\n",
    "        data = data[data.columns[data.columns.isin(df_info['Cell_id'])]]\n",
    "\n",
    "        if len(data.columns) < 1:\n",
    "            print(f\"skipping {file} \\n\")\n",
    "            continue\n",
    "        #tissues = df_info[df_info['Cell_id'].isin(data.columns) & (df_info['Development_stage']=='Adult')]['tissue'].unique() # only adults\n",
    "        tissues = df_info[df_info['Cell_id'].isin(data.columns)]['tissue'].unique()\n",
    "\n",
    "    if \"tm\" in data_source:\n",
    "        data = pd.read_csv(f\"{data_source}/{file}\", sep=\",\", index_col=0)\n",
    "        tissues = [files[0]]\n",
    "    \n",
    "    print(tissues)\n",
    "    if len(tissues) < 1:\n",
    "        print(f\"no tissue found \\n\")\n",
    "        continue\n",
    "    for tissue in tissues:\n",
    "        \n",
    "        if \"mca\" in data_source:\n",
    "            df = data.reindex(columns=df_info[df_info['Cell_id'].isin(data.columns) & (df_info['tissue']==tissue)]['Cell_id'])\n",
    "        \n",
    "        if \"tm\" in data_source:\n",
    "            df = clean_df(data)\n",
    "        \n",
    "        if tissue in saved:\n",
    "            df = df.transpose().append(pd.read_csv(f\"{data_source}/mainTable_{tissue}.csv\", index_col=0, header=0).transpose(), ignore_index=False, sort=True).transpose().fillna(0)\n",
    "        \n",
    "        #df = df.divide(df.sum(0), 1).applymap(lambda cpm: np.log(cpm*1e6+1)) #log(cpm +1)\n",
    "        A_sub = df.sum(axis=1)\n",
    "        O_sub = df.apply(lambda x: len(x[x>0]), 1)\n",
    "        M_sub = df.apply(np.sum, 0)\n",
    "        cell_zeros_sub = df.apply(lambda x: len(x[x>0]), 0)\n",
    "        diffWords_sub = df.apply(lambda x: len(x[x>0]), 0)\n",
    "        \n",
    "        if tissue in frac_of.keys():\n",
    "            frac_of[tissue]['data'].add(A_sub, fill_value = 0)\n",
    "            frac_of[tissue]['N']+=len(M_sub)\n",
    "        else:\n",
    "            frac_of[tissue] = {'data': A_sub,\n",
    "                                  'N': len(M_sub)}\n",
    "\n",
    "        A = A.add(A_sub, fill_value=0)\n",
    "        O = O.add(O_sub, fill_value=0)\n",
    "        M = M.append(M_sub)\n",
    "        cell_zeros = cell_zeros.append(cell_zeros_sub)\n",
    "        diffWords = diffWords.append(diffWords_sub)\n",
    "        if tissue in n_genes.keys():\n",
    "            n_genes[tissue] = n_genes[tissue].append(diffWords_sub)\n",
    "        else:\n",
    "            n_genes[tissue]= diffWords_sub\n",
    "        \n",
    "        gene_presence = gene_presence.add(df.apply(lambda x: len(x[~x.isna()]), 1), fill_value=0)\n",
    "        gene_presence_nonnull_sub = df.apply(lambda x: len(x[~x.isna() & (x>0)]), 1).astype(int)\n",
    "        gene_presence_nonnull = gene_presence_nonnull.add(gene_presence_nonnull_sub, fill_value=0).astype(int)\n",
    "        var = var.add(df.apply(lambda x: (x*x).sum(), 1), fill_value=0)\n",
    "        \n",
    "        n_expressed_genes_sub = pd.Series(index=df.index, data=np.zeros_like(df.index))\n",
    "        n_expressed_genes_sub[A_sub.sort_values(ascending=False).index[:100]]+=1\n",
    "        n_expressed_genes = n_expressed_genes.add(n_expressed_genes_sub, fill_value=0)\n",
    "\n",
    "        save_model(df,\"data\",tissue)\n",
    "        #mazzolini(M_sub, A_sub/A_sub.sum(), tissue)\n",
    "        #null_model(df, M_sub, A_sub/gene_presence_nonnull_sub)\n",
    "        #heaps(M_sub, diffWords_sub, tissue)\n",
    "        saved.append(tissue)\n",
    "        df.to_csv(f\"{data_source}/mainTable_{tissue}.csv\", index=True, header=True)\n",
    "        print(f\"Handling {len(M)} cells\")\n",
    "\n",
    "        del df \n",
    "        del A_sub\n",
    "        del O_sub\n",
    "        del M_sub\n",
    "        del diffWords_sub\n",
    "        del gene_presence_nonnull_sub\n",
    "        gc.collect()\n",
    "        print(\"\\n\")\n",
    "    del tissues\n",
    "    del data\n",
    "    gc.collect()\n",
    "\n",
    "means = A/gene_presence\n",
    "means_nozero = A/gene_presence_nonnull\n",
    "var = var/gene_presence - means*means\n",
    "f = (A/A.sum())\n",
    "O = O / gene_presence\n",
    "O = O.reindex_like(means)\n",
    "cv2 = var/means/means\n",
    "\n",
    "\n",
    "print(\"Saving data.pkl\")\n",
    "data = {\n",
    "    'means': means,\n",
    "    'var': var,\n",
    "    'freq': A/A.sum(),\n",
    "    'O': O,\n",
    "    'M': M,\n",
    "    'cv2': cv2,\n",
    "    'diffWords': diffWords,\n",
    "    'means_nonzero': means_nozero,\n",
    "    'n_expressed': n_expressed_genes,\n",
    "    'n_genes': n_genes,\n",
    "    'frac_of': frac_of,\n",
    "    'cell_zeros': cell_zeros\n",
    "}\n",
    "\n",
    "with open(\"data_all.pkl\",\"wb\") as file:\n",
    "    pickle.dump(data, file, protocol=pickle.HIGHEST_PROTOCOL)"
   ]
  },
  {
   "cell_type": "markdown",
   "metadata": {
    "Collapsed": "true"
   },
   "source": [
    "# Correlations with Tabula Muris"
   ]
  },
  {
   "cell_type": "code",
   "execution_count": null,
   "metadata": {
    "Collapsed": "false"
   },
   "outputs": [],
   "source": [
    "common_organs = [\"Bladder\", \"Kidney\", \"Liver\", \"Lung\", \"Pancreas\", \"Spleen\"]"
   ]
  },
  {
   "cell_type": "code",
   "execution_count": null,
   "metadata": {
    "Collapsed": "false"
   },
   "outputs": [],
   "source": [
    "tm = load_all_data(\"tm\")[\"freq\"]\n",
    "mca = load_all_data(\"mca\")[\"freq\"]\n",
    "tm = tm[tm.index.isin(mca.index)]\n",
    "mca = mca[mca.index.isin(tm.index)]\n",
    "tm = pd.Series(name='tm',index=tm.sort_values(ascending=False).index, data=range(1,1+len(tm)))\n",
    "mca = pd.Series(name='mca',index=mca.sort_values(ascending=False).index, data=range(1, len(mca)+1))\n",
    "\n",
    "mca = mca.reindex_like(tm).dropna()"
   ]
  },
  {
   "cell_type": "code",
   "execution_count": null,
   "metadata": {
    "Collapsed": "false"
   },
   "outputs": [],
   "source": [
    "fig, ax = plt.subplots(figsize=(18,15))\n",
    "ax.scatter(mca.values,tm.values, c=\"gray\", s=225, alpha=0.5)\n",
    "\n",
    "ax.plot(np.linspace(0,1.9e4), np.linspace(0,1.9e4), lw=15, ls=\"--\")\n",
    "\n",
    "ax.set_xlabel(\"Mouse Cell Atlas' Rank\", fontsize=35)\n",
    "ax.set_ylabel(\"Tabula Muris' Rank\", fontsize=35)\n",
    "\n",
    "ax.tick_params(labelsize=35, width=8, length=20)\n",
    "\n",
    "fig.savefig(\"rank_correlation.pdf\")\n",
    "plt.show()"
   ]
  },
  {
   "cell_type": "markdown",
   "metadata": {
    "Collapsed": "true",
    "toc-hr-collapsed": true,
    "toc-nb-collapsed": true
   },
   "source": [
    "# Fraction of trascriptome"
   ]
  },
  {
   "cell_type": "code",
   "execution_count": null,
   "metadata": {
    "Collapsed": "false"
   },
   "outputs": [],
   "source": [
    "thresholded = {}\n",
    "\n",
    "frac_of = data[\"frac_of\"]\n",
    "\n",
    "fig,ax = plt.subplots(figsize=(18,15))\n",
    "for tissue in frac_of.keys():\n",
    "    #if \"Lactation\" in tissue:\n",
    "    #    continue\n",
    "    A_tissue = (frac_of[tissue]['data'] / frac_of[tissue]['N']).sort_values(ascending=False)\n",
    "    A_tissue_sum = np.cumsum(A_tissue.values) / A_tissue.sum() #h thr\n",
    "    ax.plot(A_tissue_sum, label = tissue, c=get_color(tissue), lw=15, alpha=.7)\n",
    "    #if len(A_tissue_sum) < 2:\n",
    "    #    continue\n",
    "    thresholded[tissue] = A_tissue_sum[99]\n",
    "    #thresholded[tissue] = np.argwhere(A_tissue_sum>=0.4).ravel()[0] #v thr\n",
    "ax.set_xscale('log')\n",
    "ax.set_xlim(1, 3e4)\n",
    "ax.set_xlabel(\"Number of genes\", fontsize=35)\n",
    "ax.set_ylabel(\"Fraction of trascriptome described\", fontsize=35)\n",
    "\n",
    "# Shrink current axis by 20%\n",
    "box = ax.get_position()\n",
    "#ax.set_position([box.x0, box.y0, box.width * 0.8, box.height])\n",
    "\n",
    "ax.tick_params(labelsize=35, width=8, length=20)\n",
    "\n",
    "# Put a legend to the right of the current axis\n",
    "#ax.legend(loc='center left', bbox_to_anchor=(1, 0.5))\n",
    "plt.show()\n",
    "fig.savefig(\"fracof_mca.pdf\")"
   ]
  },
  {
   "cell_type": "code",
   "execution_count": null,
   "metadata": {
    "Collapsed": "false"
   },
   "outputs": [],
   "source": [
    "gene_to_thr = pd.DataFrame(data= thresholded.items()).set_index(0).sort_values(1, ascending=False)\n",
    "\n",
    "fig,ax = plt.subplots(figsize=(20,10))\n",
    "ax.bar(gene_to_thr.index, gene_to_thr.values.ravel())\n",
    "ax.tick_params(rotation=90)\n",
    "\n",
    "ax.set_ylabel(\"Fraction of trascriptome\\n described by 100 genes\", fontsize=24)\n",
    "#ax.set_ylabel(\"Number of genes\\n to describe 40% of trascriptome\", fontsize=24)\n",
    "\n",
    "plt.tight_layout()\n",
    "plt.show()\n",
    "fig.savefig(\"frac_of_100genes.pdf\")"
   ]
  },
  {
   "cell_type": "markdown",
   "metadata": {
    "Collapsed": "true"
   },
   "source": [
    "# All Tissues"
   ]
  },
  {
   "cell_type": "markdown",
   "metadata": {
    "Collapsed": "true"
   },
   "source": [
    "## Zipf"
   ]
  },
  {
   "cell_type": "code",
   "execution_count": null,
   "metadata": {
    "Collapsed": "false"
   },
   "outputs": [],
   "source": [
    "fig, ax = plt.subplots(figsize=(18,15))\n",
    "for tissue in data[\"frac_of\"].keys():\n",
    "    try:\n",
    "        info = load_tissue(tissue, data_source=data_source)\n",
    "    except:\n",
    "        print(*sys.exc_info())\n",
    "        continue \n",
    "    if \"Lactation\" in tissue:\n",
    "        continue\n",
    "    f = info[\"freq\"]\n",
    "    ax.plot(f.sort_values(ascending=False).values, label=tissue, c=get_color(tissue), lw=15, alpha=.7)\n",
    "    \n",
    "x =np.linspace(1,6e4,10)\n",
    "\n",
    "exp = 0.8\n",
    "ax.plot(x, 1e-1*np.power(x, -0.8), lw=20, c='gray', ls='--')\n",
    "\n",
    "ax.set_xscale(\"log\")\n",
    "ax.set_yscale(\"log\")\n",
    "\n",
    "ax.annotate('$k*i^{-%.1f}$'%exp, (1e2,1e-2), fontsize=35)\n",
    "\n",
    "# Shrink current axis by 20%\n",
    "box = ax.get_position()\n",
    "#ax.set_position([box.x0, box.y0, box.width * 0.8, box.height])\n",
    "\n",
    "# Put a legend to the right of the current axis\n",
    "#ax.legend(loc='center left', bbox_to_anchor=(1, 0.5), fontsize=18, ncol=2)\n",
    "\n",
    "ax.tick_params(labelsize=35, width=8, length=20)\n",
    "ax.set_xlim(1,1e5)\n",
    "ax.set_ylim(1e-9,1e0)\n",
    "ax.set_xlabel(\"Rank, $i$\", fontsize=35)\n",
    "ax.set_ylabel(\"Frequency, $f_i$\", fontsize=35)\n",
    "\n",
    "plt.show()\n",
    "fig.savefig(f\"zipf_alltissue_{data_source}.pdf\")"
   ]
  },
  {
   "cell_type": "markdown",
   "metadata": {
    "Collapsed": "true"
   },
   "source": [
    "## Heaps"
   ]
  },
  {
   "cell_type": "code",
   "execution_count": null,
   "metadata": {
    "Collapsed": "false"
   },
   "outputs": [],
   "source": [
    "loglog = True\n",
    "filter_mammaryLactation = True\n",
    "\n",
    "fig, ax = plt.subplots(figsize=(18,15))\n",
    "for tissue in data[\"frac_of\"].keys():\n",
    "    try:\n",
    "        info = load_tissue(tissue, data_source=data_source)\n",
    "    except:\n",
    "        print(*sys.exc_info())\n",
    "        continue\n",
    "    if (\"Lactation\" in tissue) and filter_mammaryLactation:\n",
    "        continue\n",
    "    M = info[\"M\"]\n",
    "    diff= info[\"diffWords\"]\n",
    "    skip_bins = 15\n",
    "    n_bins=35\n",
    "    if len(M) <= n_bins:\n",
    "        continue\n",
    "    bin_means, bin_edges, binnumber = stats.binned_statistic(M, diff,statistic='mean', bins=np.linspace(M.min(),max(M), n_bins))\n",
    "    bin_stds, _, _ = stats.binned_statistic(M, diff,statistic='std', bins=np.linspace(M.min(),np.quantile(M, 0.9), n_bins))\n",
    "    x = ((bin_edges[:-1]+bin_edges[1:])/2.)[:-skip_bins]\n",
    "    y = bin_means[:-skip_bins]\n",
    "    ax.plot(x, y, marker='o', lw=5, ms=25, alpha=0.8, c=get_color(tissue), label=tissue)\n",
    "    #ax.errorbar(x,y , bin_stds[:-skip_bins], fmt='none', ecolor='orange', elinewidth=3)\n",
    "\n",
    "if \"mca\" in data_source:\n",
    "    ax.set_xlabel(\"UMI per cell\", fontsize=35)\n",
    "else:\n",
    "    ax.set_xlabel(\"Reads per cell\", fontsize=35)\n",
    "ax.set_ylabel(\"Number of expressed genes\", fontsize=35)\n",
    "\n",
    "if loglog:\n",
    "    ax.set_xscale('log')\n",
    "    ax.set_yscale('log')\n",
    "ax.set_xlim(450,max(data[\"M\"])*0.7) #min UMI is 500\n",
    "\n",
    "ax.tick_params(labelsize=35, width=8, length=20)\n",
    "ax.tick_params(which=\"minor\", labelsize=35, width=5, length=25)\n",
    "\n",
    "\n",
    "    \n",
    "# Shrink current axis by 20%\n",
    "box = ax.get_position()\n",
    "#ax.set_position([box.x0, box.y0, box.width * 0.8, box.height])\n",
    "\n",
    "# Put a legend to the right of the current axis\n",
    "#ax.legend(loc='center left', bbox_to_anchor=(1, 0.5), fontsize=18, ncol=2)\n",
    "\n",
    "plt.show()\n",
    "fig.savefig(\"heaps_alltissues%s_mca%s.pdf\"%(\"\" if filter_mammaryLactation else \"_noLactation\",\"_loglog\" if loglog else \"\"))"
   ]
  },
  {
   "cell_type": "markdown",
   "metadata": {
    "Collapsed": "true"
   },
   "source": [
    "# Null Model"
   ]
  },
  {
   "cell_type": "markdown",
   "metadata": {
    "Collapsed": "true"
   },
   "source": [
    "# Zipf"
   ]
  },
  {
   "cell_type": "code",
   "execution_count": null,
   "metadata": {
    "Collapsed": "false"
   },
   "outputs": [],
   "source": [
    "fig,ax = plt.subplots(figsize=(18,15))\n",
    "x = np.arange(1, len(f))\n",
    "ax.set_ylabel(\"$Frequency, f_i$\", fontsize=35)\n",
    "ax.set_xlabel(\"$RANK, i$\", fontsize=35)\n",
    "ax.set_yscale('log')\n",
    "ax.set_xscale('log')\n",
    "#plt.ylim(1e-7,1)\n",
    "ax.plot(x, np.power(x,-0.8)*1e-1, 'g--', lw=10, label='$k*i^{-0.8}$')\n",
    "ax.plot(np.sort(f.dropna())[::-1], c='blue', lw=15, label='Genes')\n",
    "if \"f_null\" in vars().keys():\n",
    "    ax.plot(np.sort(f_null/f_null.sum())[::-1], c='orange', ls='--', lw=15, label='null_model')\n",
    "    \n",
    "ax.tick_params(labelsize=35, width=8, length=20)\n",
    "ax.tick_params(which=\"minor\", labelsize=35, width=5, length=15)\n",
    "\n",
    "ax.legend(fontsize=35)\n",
    "plt.show()\n",
    "fig.savefig(\"zipf.pdf\")"
   ]
  },
  {
   "cell_type": "code",
   "execution_count": null,
   "metadata": {},
   "outputs": [],
   "source": [
    "def p(o, M, gamma, N):\n",
    "    i = np.arange(1, N+1, step=1)\n",
    "    alpha_i = i**(-gamma)\n",
    "    alpha = np.sum(alpha_i, axis=0)\n",
    "    p_num = (1-o)**(1/M-1)\n",
    "    K = (1-(1-o)**(1/M))**(1+1/gamma)\n",
    "    p_den = gamma*M*N*(alpha**(1/gamma))*K\n",
    "    return p_num/p_den"
   ]
  },
  {
   "cell_type": "code",
   "execution_count": null,
   "metadata": {
    "Collapsed": "false"
   },
   "outputs": [],
   "source": [
    "nbins = 10\n",
    "rang = (0-0.5/nbins, 1+0.5/nbins)\n",
    "\n",
    "bins = np.logspace(np.log10(1e-2),np.log10(rang[1]),num=nbins)\n",
    "#bins = np.linspace(rang[0], rang[1], num=nbins)\n",
    "\n",
    "fig, ax =plt.subplots(figsize=(18,15))\n",
    "ax.hist(np.array(O.dropna(), dtype=float), histtype='step', lw=15, color='gray', density=True, bins=bins)\n",
    "if \"O_null\" in vars().keys():\n",
    "    ax.hist(np.array(O_null, dtype=float), histtype='step', lw=15, bins=bins, color='red', ls='--', density=True)\n",
    "ax.set_xlabel(\"Occurrence, $o_i$\", fontsize=35)\n",
    "ax.set_ylabel(\"Probability Density Function\", fontsize=35)\n",
    "\n",
    "x_bins=np.arange(1e-2,rang[1],step=(rang[1]-rang[0])/nbins)\n",
    "ax.plot(x_bins,[p(x, M.mean(), 0.8, len(O.dropna())) for x in x_bins], lw=15, ls=\"--\", c=\"orange\")\n",
    "\n",
    "ax.tick_params(labelsize=35, width=8, length=20)\n",
    "ax.tick_params(which=\"minor\", labelsize=35, width=5, length=15)\n",
    "\n",
    "ax.set_xlim(9e-3,1.5)\n",
    "\n",
    "ax.set_yscale('log')\n",
    "ax.set_xscale('log')\n",
    "plt.show()\n",
    "fig.savefig(\"U.pdf\")"
   ]
  },
  {
   "cell_type": "markdown",
   "metadata": {
    "Collapsed": "false"
   },
   "source": [
    "## Heaps"
   ]
  },
  {
   "cell_type": "code",
   "execution_count": null,
   "metadata": {},
   "outputs": [],
   "source": [
    "def h(m, gamma, N):\n",
    "    i = np.arange(1, N+1, step=1)\n",
    "    alpha_i = i**(-gamma)\n",
    "    alpha = np.sum(alpha_i, axis=0)\n",
    "    return N - np.sum((1-np.power(i, -gamma)/alpha)**m, axis=0)"
   ]
  },
  {
   "cell_type": "code",
   "execution_count": null,
   "metadata": {
    "Collapsed": "false"
   },
   "outputs": [],
   "source": [
    "fig, ax = plt.subplots(figsize=(18,15))\n",
    "\n",
    "\n",
    "ax.scatter(data[\"M\"], data[\"diffWords\"], label='samples', alpha=0.5, s=225, c=\"gray\")\n",
    "if \"M_null\" in vars().keys() and \"diffWords_null\" in vars().keys():\n",
    "    plt.scatter(M_null, diffWords_null, label='null_model', s=225, c=\"red\")\n",
    "ax.set_ylabel(\"Number of genes expressed\", fontsize=35)\n",
    "ax.set_xlabel(\"UMI per cell\", fontsize=35)\n",
    "skip_bins = 5\n",
    "n_bins=15\n",
    "\n",
    "bin_means, bin_edges, binnumber = stats.binned_statistic(data[\"M\"], data[\"diffWords\"],statistic='mean', bins=np.linspace(data[\"M\"].min(),max(data[\"M\"]), n_bins))\n",
    "#ax.hlines(bin_means[:-skip_bins], bin_edges[:-1][:-skip_bins], bin_edges[1:][:-skip_bins], colors='r', lw=5, label='binned average')\n",
    "#bin_stds, _, _ = stats.binned_statistic(data[\"M\"], data[\"diffWords\"],statistic='std', bins=np.linspace(M.min(),np.quantile(M, 0.9), n_bins))\n",
    "#ax.errorbar(((bin_edges[:-1]+bin_edges[1:])/2)[:-skip_bins],bin_means[:-skip_bins], bin_stds[:-skip_bins], fmt='none', ecolor='orange', elinewidth=3)\n",
    "\n",
    "ax.plot((bin_edges[:-1][:-skip_bins] + bin_edges[1:][:-skip_bins])/2, bin_means[:-skip_bins], color='blue', lw=10, marker=\"o\", ms=25, label='binned average')\n",
    "\n",
    "\n",
    "x_bins=np.logspace(np.log10(500), 4)\n",
    "ax.plot(x_bins, [h(x, 0.8, len(f.dropna())) for x in x_bins], lw=15, ls=\"--\", c=\"orange\", label=\"model\")\n",
    "\n",
    "\n",
    "ax.set_xscale('log')\n",
    "ax.set_yscale('log')\n",
    "ax.set_xlim(0,max(M)*1.1)\n",
    "\n",
    "ax.tick_params(labelsize=35, width=8, length=20)\n",
    "ax.tick_params(which=\"minor\", labelsize=35, width=5, length=15)\n",
    "\n",
    "#ax.legend(fontsize=35)\n",
    "plt.show()\n",
    "fig.savefig(\"heaps.pdf\")"
   ]
  },
  {
   "cell_type": "markdown",
   "metadata": {
    "Collapsed": "false"
   },
   "source": [
    "# Scaling"
   ]
  },
  {
   "cell_type": "markdown",
   "metadata": {
    "Collapsed": "true"
   },
   "source": [
    "## CV2"
   ]
  },
  {
   "cell_type": "code",
   "execution_count": null,
   "metadata": {
    "Collapsed": "false"
   },
   "outputs": [],
   "source": [
    "var = data[\"var\"].dropna()\n",
    "means = data[\"means\"].dropna()\n",
    "O = data[\"O\"].dropna()\n",
    "O = O[~O.duplicated()]\n",
    "means = means[~means.duplicated()]\n",
    "var = var[~var.duplicated()]\n",
    "means = means[var[var>1e-7].index].dropna()\n",
    "var = var.reindex_like(means)\n",
    "O = O.reindex_like(means)"
   ]
  },
  {
   "cell_type": "code",
   "execution_count": null,
   "metadata": {
    "Collapsed": "false"
   },
   "outputs": [],
   "source": [
    "df_genes=pd.read_csv(\"genes_gtex.txt\", header=0, index_col=0)\n",
    "df_genes.head()\n",
    "nc=df_genes[df_genes[\"type_of_gene\"]!=\"protein-coding\"].index\n",
    "pc=df_genes[df_genes[\"type_of_gene\"]==\"protein-coding\"].index\n",
    "genelist = pd.read_csv(\"https://stephenslab.github.io/count-clustering/project/utilities/gene_names_all_gtex.txt\", header=None).values.ravel()\n",
    "pc=pc[pc.isin(genelist)]"
   ]
  },
  {
   "cell_type": "code",
   "execution_count": null,
   "metadata": {
    "Collapsed": "false"
   },
   "outputs": [],
   "source": [
    "#select protein coding or noncoding\n",
    "means = means[means.index.isin(pc)]\n",
    "var = var.reindex_like(means)"
   ]
  },
  {
   "cell_type": "code",
   "execution_count": null,
   "metadata": {
    "Collapsed": "false"
   },
   "outputs": [],
   "source": [
    "fig, ax = plt.subplots(figsize=(18,15))\n",
    "ax.set_xlim(1e-3, 5e2)\n",
    "\n",
    "plotcv2mean(means.values.ravel(), var.values.ravel(), ax=ax, normalisation_str='counts', poisson_limit=1, alpha=0.5, s=255, colorbar=True)\n",
    "\n",
    "ax.tick_params(labelsize=35, width=8, length=20)\n",
    "ax.tick_params(axis=\"both\", which=\"minor\", width=5, length=10)\n",
    "\n",
    "upbound = len(data[\"M\"])-1\n",
    "x = np.logspace(-5,7)\n",
    "ax.plot(x,[upbound for _ in x], ls=\"--\", lw=15, c=\"orange\", label=\"R-1\")\n",
    "\n",
    "ax.legend(fontsize=30)\n",
    "ax.set_ylim(5e-1,5e5)\n",
    "plt.show()\n",
    "fig.savefig(f\"cv2_mean_dense_{data_source}.pdf\")\n",
    "fig.savefig(f\"cv2_mean_dense_{data_source}.png\", dpi=400)"
   ]
  },
  {
   "cell_type": "code",
   "execution_count": null,
   "metadata": {
    "Collapsed": "false"
   },
   "outputs": [],
   "source": [
    "import matplotlib.cm as cm\n",
    "from matplotlib.colors import Normalize\n",
    "\n",
    "fig, ax = plt.subplots(figsize=(18,15))\n",
    "\n",
    "#plt.scatter(means, var, c='gray', alpha=0.3, s=80, label='genes')\n",
    "plotvarmen(means.values, var.values, ax=ax, alpha=0.5, s=255, colorbar=True)\n",
    "\n",
    "ax.tick_params(labelsize=35, width=8, length=20)\n",
    "ax.set_ylim(1e-6,np.power(10,np.log10(var.max())+1))\n",
    "ax.set_xlim(1e-5,max(means)*1.5)\n",
    "ax.legend(fontsize=35)\n",
    "plt.show()\n",
    "fig.savefig(f\"var_mean_dense_{data_source}.pdf\")\n",
    "fig.savefig(f\"var_mean_dense_{data_source}.png\", dpi=400)"
   ]
  },
  {
   "cell_type": "markdown",
   "metadata": {
    "Collapsed": "true"
   },
   "source": [
    "# Single cell zipf"
   ]
  },
  {
   "cell_type": "code",
   "execution_count": null,
   "metadata": {
    "Collapsed": "false"
   },
   "outputs": [],
   "source": [
    "df = pd.read_csv(\"mca/mainTable_Bone-Marrow_c-kit.csv\", header=0, index_col=0)\n",
    "M = df.sum(0)"
   ]
  },
  {
   "cell_type": "code",
   "execution_count": null,
   "metadata": {
    "Collapsed": "false"
   },
   "outputs": [],
   "source": [
    "top100 = M.sort_values(ascending=False).index[:100].values"
   ]
  },
  {
   "cell_type": "code",
   "execution_count": null,
   "metadata": {
    "Collapsed": "false"
   },
   "outputs": [],
   "source": [
    "fig, ax = plt.subplots(figsize=(18,15))\n",
    "df[df.columns[df.columns.isin(top100)]].apply(lambda x: ax.plot((x.sort_values(ascending=False)/x.sum()).values), axis=0)\n",
    "\n",
    "x =np.linspace(1,6e3,10)\n",
    "\n",
    "exp = 0.8\n",
    "ax.plot(x, 1e-1*np.power(x, -0.8), lw=20, c='gray', ls='--')\n",
    "ax.annotate('$k*i^{-%.1f}$'%exp, (1e2,1e-2), fontsize=35)\n",
    "\n",
    "\n",
    "ax.set_ylabel(\"$Frequency, f_i$\", fontsize=35)\n",
    "ax.set_xlabel(\"$RANK, i$\", fontsize=35)\n",
    "\n",
    "ax.set_xscale(\"log\")\n",
    "ax.set_yscale(\"log\")\n",
    "\n",
    "ax.tick_params(labelsize=35, width=8, length=20)\n",
    "ax.tick_params(which=\"minor\", width=5, length=15)\n",
    "\n",
    "\n",
    "ax.set_xlim(1,2e4)\n",
    "ax.set_ylim(6e-5,1e-1)\n",
    "\n",
    "plt.show()\n",
    "fig.savefig(\"zipf_top100_mca.pdf\")\n",
    "fig.savefig(\"zipf_top100_mca.png\", dpi=400)"
   ]
  },
  {
   "cell_type": "markdown",
   "metadata": {
    "Collapsed": "true"
   },
   "source": [
    "# Load data\n",
    "Use the following cells to reload already analysed data"
   ]
  },
  {
   "cell_type": "code",
   "execution_count": null,
   "metadata": {
    "Collapsed": "false"
   },
   "outputs": [],
   "source": [
    "tissue = \"Bone-Marrow_c-Kit\"\n",
    "#tissue = \"bonemarrow_M100\"\n",
    "\n",
    "try:\n",
    "    data = load_tissue(tissue, \"null_1\")\n",
    "\n",
    "    means_null_1 = data['means']\n",
    "    var_null_1 = data['var']\n",
    "    f_null_1 = data['freq']\n",
    "    O_null_1 = data['O']\n",
    "    M_null_1 = data[\"M\"]\n",
    "    cv2_null_1 = data['cv2']\n",
    "    diffWords_null_1 = data['diffWords']\n",
    "    means_nozero_null_1 = data['means_nonzero']\n",
    "except:\n",
    "    print(*sys.exc_info())\n",
    "\n",
    "try:\n",
    "    data = load_tissue(tissue, \"mazzolini\")\n",
    "\n",
    "    means_null = data['means']\n",
    "    var_null = data['var']\n",
    "    f_null = data['freq']\n",
    "    O_null = data['O']\n",
    "    M_null = data[\"M\"]\n",
    "    cv2_null = data['cv2']\n",
    "    diffWords_null = data['diffWords']\n",
    "    means_nozero_null = data['means_nonzero']\n",
    "except:\n",
    "    print(*sys.exc_info())\n",
    "    \n",
    "data = load_tissue(tissue, \"data\")\n",
    "\n",
    "means = data['means']\n",
    "var = data['var']\n",
    "f = data['freq']\n",
    "O = data['O']\n",
    "M = data[\"M\"]\n",
    "cv2 = data['cv2']\n",
    "diffWords = data['diffWords']\n",
    "means_nozero = data['means_nonzero']\n",
    "#mazzolini(M, f, tissue)"
   ]
  }
 ],
 "metadata": {
  "kernelspec": {
   "display_name": "Python 3",
   "language": "python",
   "name": "python3"
  },
  "language_info": {
   "codemirror_mode": {
    "name": "ipython",
    "version": 3
   },
   "file_extension": ".py",
   "mimetype": "text/x-python",
   "name": "python",
   "nbconvert_exporter": "python",
   "pygments_lexer": "ipython3",
   "version": "3.7.6"
  }
 },
 "nbformat": 4,
 "nbformat_minor": 4
}
