{
 "cells": [
  {
   "cell_type": "code",
   "execution_count": null,
   "metadata": {},
   "outputs": [],
   "source": [
    "import numpy as np\n",
    "from scipy import stats\n",
    "import matplotlib.pyplot as plt\n",
    "import logging, sys, gc\n",
    "import pandas as pd\n",
    "from scipy.stats import binned_statistic\n",
    "from scipy.optimize import curve_fit\n",
    "from frontiers_analysis import load_tissue"
   ]
  },
  {
   "cell_type": "code",
   "execution_count": null,
   "metadata": {},
   "outputs": [],
   "source": [
    "tissue=\"Muscle\"\n",
    "df = pd.read_csv(f\"mca/mainTable_{tissue}.csv\", index_col=0)\n",
    "M = df.sum(0)\n",
    "f = df.divide(M,1).mean(1)\n",
    "O = df.apply(lambda x: (x>0).sum(), 1)"
   ]
  },
  {
   "cell_type": "code",
   "execution_count": null,
   "metadata": {},
   "outputs": [],
   "source": [
    "from methods import mazzolini as sampling\n",
    "from methods import mazzolini_broad as poissonian_sampling"
   ]
  },
  {
   "cell_type": "code",
   "execution_count": null,
   "metadata": {},
   "outputs": [],
   "source": [
    "M_tilde = 25000"
   ]
  },
  {
   "cell_type": "markdown",
   "metadata": {},
   "source": [
    "# Create models"
   ]
  },
  {
   "cell_type": "code",
   "execution_count": null,
   "metadata": {},
   "outputs": [],
   "source": [
    "method_delta = sampling(M=M, f=f)\n",
    "method_pois = poissonian_sampling(M=M, f=f, M_tilde=M_tilde)\n",
    "models = [method_delta, method_pois]\n",
    "for method in models:\n",
    "    print(method)\n",
    "    method.run()"
   ]
  },
  {
   "cell_type": "markdown",
   "metadata": {},
   "source": [
    "## Zipf"
   ]
  },
  {
   "cell_type": "code",
   "execution_count": null,
   "metadata": {},
   "outputs": [],
   "source": [
    "plt.plot(np.sort(f/f.sum())[::-1], lw=10, c=\"gray\", alpha=0.5, label=\"data\")\n",
    "for model in models:\n",
    "    plt.plot(model.get_f(), lw=10, alpha=0.5, label=model.name_, c=model.color_)\n",
    "\n",
    "plt.xlabel(\"i\")\n",
    "plt.ylabel(\"f\")\n",
    "\n",
    "plt.xscale(\"log\")\n",
    "plt.yscale(\"log\")\n",
    "\n",
    "plt.legend()"
   ]
  },
  {
   "cell_type": "markdown",
   "metadata": {},
   "source": [
    "## Heaps"
   ]
  },
  {
   "cell_type": "code",
   "execution_count": null,
   "metadata": {},
   "outputs": [],
   "source": [
    "bins = np.logspace(np.log10(M.min()), np.log10(M.max()), 35)\n",
    "#bins = np.linspace(M.min(), M.max(), 35)\n",
    "    \n",
    "h=df.apply(lambda x: (x>0).sum(),0)\n",
    "plt.scatter(M, h, c=\"gray\", alpha=0.8)\n",
    "\n",
    "for model in models:\n",
    "    print(model.name_)\n",
    "    means, edges, _ = binned_statistic(M, model.get_h(), bins=bins)\n",
    "    var, edges, _ = binned_statistic(M, model.get_h(), statistic=\"std\", bins=bins)\n",
    "    cnt, edges, _ = binned_statistic(M, model.get_h(), statistic=\"count\", bins=bins)\n",
    "    var = var*var\n",
    "    mask = cnt > 25\n",
    "    means = means[mask]\n",
    "    var = var[mask]\n",
    "    l_edges = (edges[:-1])[mask]\n",
    "    r_edges = (edges[1:])[mask]\n",
    "\n",
    "    plt.hlines(means, l_edges, r_edges, lw=5, color=\"dark\"+model.color_, ls=\"--\")\n",
    "\n",
    "    plt.scatter(M, model.get_h(), alpha=0.2, c=model.color_, label=model.name_)\n",
    "    \n",
    "    model.hmean = means.copy()\n",
    "    model.hvar = var.copy()\n",
    "    model.cnt = cnt.copy()\n",
    "\n",
    "means, edges, _ = binned_statistic(M, h, bins=bins)\n",
    "var, edges, _ = binned_statistic(M, h, statistic=\"std\", bins=bins)\n",
    "cnt, edges, _ = binned_statistic(M, h, statistic=\"count\", bins=bins)\n",
    "var = var*var\n",
    "mask = cnt > 25\n",
    "means = means[mask]\n",
    "var = var[mask]\n",
    "l_edges = (edges[:-1])[mask]\n",
    "r_edges = (edges[1:])[mask]\n",
    "plt.hlines(means, l_edges, r_edges, lw=5, color=\"gray\", ls=\"--\")\n",
    "\n",
    "plt.xlabel(\"M\")\n",
    "plt.ylabel(\"h\")\n",
    "\n",
    "plt.legend()"
   ]
  },
  {
   "cell_type": "markdown",
   "metadata": {},
   "source": [
    "### Fluctuations"
   ]
  },
  {
   "cell_type": "code",
   "execution_count": null,
   "metadata": {},
   "outputs": [],
   "source": [
    "x = np.logspace(np.log10(300),np.log10(2000))\n",
    "\n",
    "for model in models:\n",
    "    plt.scatter(model.hmean, model.hvar, s=50, label=model.name_, c=model.color_)\n",
    "\n",
    "plt.scatter(means, var, label=\"data\", c=\"gray\")\n",
    "    \n",
    "popt, pcov= curve_fit(lambda x, C: C*x, models[0].hmean, models[0].hvar)\n",
    "plt.plot(x, popt[0]*x, lw=5, ls=\"--\", c=\"cyan\", alpha=0.8, label=\"C*<h>\")\n",
    "\n",
    "popt, pcov= curve_fit(lambda x, C: C*x*x, means, var)\n",
    "plt.plot(x, popt[0]*x**2, lw=5, ls=\"--\", c=\"purple\", alpha=0.8, label =\"C*<h>^2\")\n",
    "    \n",
    "plt.xlabel(\"<h>\")\n",
    "plt.ylabel(\"var(h)\")\n",
    "\n",
    "plt.xscale(\"log\")\n",
    "plt.yscale(\"log\")\n",
    "\n",
    "plt.legend()\n",
    "\n",
    "#plt.ylim(1e2,1e3)"
   ]
  },
  {
   "cell_type": "markdown",
   "metadata": {},
   "source": [
    "## CV^2"
   ]
  },
  {
   "cell_type": "code",
   "execution_count": null,
   "metadata": {},
   "outputs": [],
   "source": [
    "for model in models:\n",
    "    means = np.mean(model.table,0)\n",
    "    mean = means[means>0]\n",
    "    var = np.var(model.table,0)\n",
    "    cv2 = var[means>0]/mean/mean\n",
    "    plt.scatter(mean,cv2, alpha=0.5, label=model.name_,c=model.color_)\n",
    "\n",
    "x = np.linspace(1e-4,1e2,10)\n",
    "plt.plot(x,1/x, alpha=0.5, label=\"<>\",c=\"gray\", ls=\"--\", lw=5)\n",
    "\n",
    "    \n",
    "plt.xscale(\"log\")\n",
    "plt.yscale(\"log\")\n",
    "\n",
    "plt.xlabel(\"<>\")\n",
    "plt.ylabel(\"CV^2\")\n",
    "\n",
    "plt.ylim(1e-2,1e5)\n",
    "plt.xlim(5e-5,1e2)\n",
    "\n",
    "\n",
    "plt.legend()"
   ]
  },
  {
   "cell_type": "markdown",
   "metadata": {},
   "source": [
    "## U"
   ]
  },
  {
   "cell_type": "code",
   "execution_count": null,
   "metadata": {},
   "outputs": [],
   "source": [
    "for model in models:\n",
    "    plt.hist(model.get_O(), lw=10, ls=\"--\", histtype=\"step\", label=model.name_, color=model.color_, alpha=0.4)\n",
    "    \n",
    "plt.hist(O/O.sum(), color=\"gray\", label=\"data\")\n",
    "plt.legend()"
   ]
  },
  {
   "cell_type": "markdown",
   "metadata": {},
   "source": [
    "## Predicted occurrences"
   ]
  },
  {
   "cell_type": "code",
   "execution_count": null,
   "metadata": {},
   "outputs": [],
   "source": [
    "Os = []\n",
    "for i in range(5):\n",
    "    method = sampling(M=M, f=f)\n",
    "    method.run()\n",
    "    print(i, method)\n",
    "    Os.append(method.get_O())\n",
    "O_sampling = np.average(Os, axis=0)"
   ]
  },
  {
   "cell_type": "code",
   "execution_count": null,
   "metadata": {},
   "outputs": [],
   "source": [
    "Os = []\n",
    "for i in range(5):\n",
    "    method_pois = poissonian_sampling(M=M, f=f, M_tilde=M_tilde)\n",
    "    method_pois.run()\n",
    "    print(i, method_pois)\n",
    "    Os.append(method_pois.get_O())\n",
    "O_pois = np.average(Os, axis=0)\n",
    "\n",
    "Os = []\n",
    "for i in range(5):\n",
    "    method = sampling(M=M, f=f)\n",
    "    method.run()\n",
    "    print(i, method)\n",
    "    Os.append(method.get_O())\n",
    "O_sampling = np.average(Os, axis=0)"
   ]
  },
  {
   "cell_type": "code",
   "execution_count": null,
   "metadata": {},
   "outputs": [],
   "source": [
    "fig, axs = plt.subplots(1, len(models), figsize=(30, 15))\n",
    "\n",
    "models[0].color_=\"gray\"\n",
    "models[1].color_=\"gray\"\n",
    "for model, ax in zip(models, axs):\n",
    "    ax.plot([0,1], [0,1], lw=20, alpha=0.7,ls=\"--\", c=\"black\")\n",
    "    ax.set_title(model.name_, fontsize=35)\n",
    "    \n",
    "axs[0].scatter(O/df.shape[1],O_sampling, alpha=0.5, s=350, color=\"gray\", marker=\"o\")    \n",
    "axs[1].scatter(O/df.shape[1],O_pois, alpha=0.5, s=350, color=\"gray\", marker=\"o\")        \n",
    "\n",
    "for ax in axs:\n",
    "    ax.tick_params(labelsize=40, width=5, size=10)\n",
    "    ax.set_xlabel(\"$O_i$ from data\", fontsize=65)\n",
    "    ax.set_ylabel(\"$O_i$ predicted\", fontsize=65)\n",
    "    \n",
    "axs[0].set_title(\"Sampling model $\\\\rho(f)=\\\\delta$\", fontsize=55)\n",
    "axs[1].set_title(\"Sampling model $\\\\rho(f)={poisson}$\", fontsize=55)\n",
    "\n",
    "plt.tight_layout()\n",
    "plt.show()\n",
    "fig.savefig(f\"Oreal_Opred_poissonModel_{tissue}.pdf\")"
   ]
  },
  {
   "cell_type": "markdown",
   "metadata": {},
   "source": [
    "# Sparsity"
   ]
  },
  {
   "cell_type": "markdown",
   "metadata": {},
   "source": [
    "## Simulations\n",
    "### Sampling"
   ]
  },
  {
   "cell_type": "code",
   "execution_count": null,
   "metadata": {},
   "outputs": [],
   "source": [
    "sparsities = []\n",
    "for sample in range(10):\n",
    "    model = sampling(M=M, f=f)\n",
    "    model.run()\n",
    "    E = (np.array(model.table)>0).sum()\n",
    "    N = np.array(model.table).shape[0] * np.array(model.table).shape[1]\n",
    "    sparsities.append(1-float(E)/N)"
   ]
  },
  {
   "cell_type": "markdown",
   "metadata": {},
   "source": [
    "### Sampling from Poisson"
   ]
  },
  {
   "cell_type": "code",
   "execution_count": null,
   "metadata": {},
   "outputs": [],
   "source": [
    "sparsities_pois_5 = []\n",
    "for sample in range(25):\n",
    "    model = poissonian_sampling(M=M, f=f, M_tilde=500000)\n",
    "    model.run()\n",
    "    E = (np.array(model.table)>0).sum().sum()\n",
    "    N = np.array(model.table).shape[0] * np.array(model.table).shape[1]\n",
    "    sparsities_pois_5.append(1-float(E)/N)"
   ]
  },
  {
   "cell_type": "code",
   "execution_count": null,
   "metadata": {},
   "outputs": [],
   "source": [
    "sparsities_pois = []\n",
    "for sample in range(25):\n",
    "    model = poissonian_sampling(M=M, f=f, M_tilde=M_tilde)\n",
    "    model.run()\n",
    "    E = (np.array(model.table)>0).sum().sum()\n",
    "    N = np.array(model.table).shape[0] * np.array(model.table).shape[1]\n",
    "    sparsities_pois.append(1-float(E)/N)"
   ]
  },
  {
   "cell_type": "markdown",
   "metadata": {},
   "source": [
    "### Data"
   ]
  },
  {
   "cell_type": "code",
   "execution_count": null,
   "metadata": {},
   "outputs": [],
   "source": [
    "E = (df>0).sum().sum()\n",
    "N = df.shape[0] * df.shape[1]\n",
    "data_sparsity=[1-E/N]"
   ]
  },
  {
   "cell_type": "markdown",
   "metadata": {},
   "source": [
    "## Plot"
   ]
  },
  {
   "cell_type": "code",
   "execution_count": null,
   "metadata": {},
   "outputs": [],
   "source": [
    "fig = plt.figure(figsize=(8,8))\n",
    "\n",
    "#plt.boxplot([data_sparsity,sparsities,sparsities_pois_5, sparsities_pois], labels=[\"data\", \"sampling\", \"poissonian \\n sampling \\n (M=500000)\", f\"\\n (M={M_tilde})\"], medianprops={\"lw\":10, \"color\":\"red\"}, whiskerprops={\"lw\":5}, capprops={\"lw\":5})\n",
    "plt.boxplot([data_sparsity,sparsities], labels=[\"data\", \"sampling\"], medianprops={\"lw\":10, \"color\":\"red\"}, whiskerprops={\"lw\":5}, capprops={\"lw\":5})\n",
    "\n",
    "\n",
    "\n",
    "plt.ylabel(\"Sparsity\", fontsize=45)\n",
    "plt.xticks(rotation=90)\n",
    "plt.tick_params(size=10, width=5, labelsize=35)\n",
    "plt.tight_layout()\n",
    "plt.show()\n",
    "fig.savefig(f\"Sparsity_box_{tissue}.pdf\")"
   ]
  },
  {
   "cell_type": "code",
   "execution_count": null,
   "metadata": {},
   "outputs": [],
   "source": [
    "round(data_sparsity[0]*100,2),round(np.mean(sparsities),2),round(np.std(sparsities),4)"
   ]
  },
  {
   "cell_type": "code",
   "execution_count": null,
   "metadata": {},
   "outputs": [],
   "source": []
  }
 ],
 "metadata": {
  "kernelspec": {
   "display_name": "Python 3 (ipykernel)",
   "language": "python",
   "name": "python3"
  },
  "language_info": {
   "codemirror_mode": {
    "name": "ipython",
    "version": 3
   },
   "file_extension": ".py",
   "mimetype": "text/x-python",
   "name": "python",
   "nbconvert_exporter": "python",
   "pygments_lexer": "ipython3",
   "version": "3.8.5"
  }
 },
 "nbformat": 4,
 "nbformat_minor": 4
}
