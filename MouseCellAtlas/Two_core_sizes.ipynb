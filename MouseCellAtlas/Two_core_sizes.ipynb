{
 "cells": [
  {
   "cell_type": "code",
   "execution_count": null,
   "id": "1578d747",
   "metadata": {},
   "outputs": [],
   "source": [
    "%load_ext watermark\n",
    "%watermark -a Filippo_Valle -p pandas,numpy,scipy,matplotlib -m -v -g"
   ]
  },
  {
   "cell_type": "code",
   "execution_count": null,
   "id": "e15c82a4",
   "metadata": {},
   "outputs": [],
   "source": [
    "import pandas as pd\n",
    "import numpy as np\n",
    "import matplotlib.pyplot as plt"
   ]
  },
  {
   "cell_type": "markdown",
   "id": "0a0a6310",
   "metadata": {},
   "source": [
    "# Single Tissue"
   ]
  },
  {
   "cell_type": "code",
   "execution_count": null,
   "id": "2740b467",
   "metadata": {},
   "outputs": [],
   "source": [
    "tissue = \"Muscle_\"\n",
    "tissues = tissue.split(\"_\")\n",
    "#df = pd.read_csv(f\"../Smartseq3.HEK.fwdprimer.UMIcounts.txt\", sep=\"\\t\", index_col=0, header=0)\n",
    "#ortho = pd.read_csv(\"orthologues.txt\").set_index(\"Gene stable ID\")\n",
    "#df = pd.read_csv(f\"../Smartseq3.Fibroblasts.NovaSeq.UMIcounts.txt\", sep=\"\\t\", index_col=0, header=0).join(ortho[\"Human gene stable ID\"], how=\"inner\").set_index(\"Human gene stable ID\")\n",
    "df = pd.read_csv(f\"mca/mainTable_{tissues[0]}.csv\", sep=\",\", index_col=0, header=0).sample(1000, axis=1, replace=False)\n",
    "#.join(\n",
    "#    pd.read_csv(f\"mca/mainTable_{tissues[1]}.csv\", sep=\",\", index_col=0, header=0).sample(1000, axis=1, replace=False), how=\"inner\"\n",
    "#)"
   ]
  },
  {
   "cell_type": "code",
   "execution_count": null,
   "id": "be44ba40",
   "metadata": {},
   "outputs": [],
   "source": [
    "M = df.sum(axis=0).sort_values(ascending=False)"
   ]
  },
  {
   "cell_type": "code",
   "execution_count": null,
   "id": "67c118d8",
   "metadata": {},
   "outputs": [],
   "source": [
    "M.hist(bins=50)"
   ]
  },
  {
   "cell_type": "markdown",
   "id": "11bcb3be",
   "metadata": {},
   "source": [
    "## Core prediction"
   ]
  },
  {
   "cell_type": "code",
   "execution_count": null,
   "id": "43be74e5",
   "metadata": {},
   "outputs": [],
   "source": [
    "quantiles = np.quantile(M.values, q=np.linspace(0,1,11))[:-1]\n",
    "#idxs = np.linspace(500,M.max(),num=20)\n",
    "\n",
    "sizes = {}\n",
    "sizes_pred = {}\n",
    "thetas_c = [0.6,0.65,0.7,0.75,0.8]\n",
    "for theta in thetas_c:\n",
    "    sizes[\"%.2f\"%theta] = []\n",
    "    sizes_pred[\"%.2f\"%theta] = []\n",
    "\n",
    "P = df.divide(df.sum(0),1).mean(1)\n",
    "\n",
    "#for (m_, m) in zip(M[idxs].index[:-1], M[idxs].index[1:]):\n",
    "for (m_,m) in zip(quantiles[:-1], quantiles[1:]):\n",
    "    print(f\"[{m_},{m})\")\n",
    "    M_avg = (m_+m)/2.\n",
    "    r = len(M[(m_<=M)&(M<m)])\n",
    "    O = df.reindex(columns=M[(m_<=M)&(M<m)].index).dropna(how=\"any\", axis=1).apply(lambda g: len(g[g>0])/float(len(g)), axis=1)\n",
    "    O_pred = np.array(list(map(lambda p: 1-1./r*np.sum(np.exp(-p*M[(m_<=M)&(M<m)].values)),P.values)))\n",
    "    for theta in thetas_c:\n",
    "        sizes[\"%.2f\"%theta].append(len(O[O>theta])/len(O))\n",
    "        sizes_pred[\"%.2f\"%theta].append(len(O_pred[O_pred>theta])/len(O_pred))\n",
    "    del O"
   ]
  },
  {
   "cell_type": "code",
   "execution_count": null,
   "id": "fc98a417",
   "metadata": {},
   "outputs": [],
   "source": [
    "q_means = (quantiles[1:]+quantiles[:-1])/2.\n",
    "#q_means = (M[idxs].index[1:]+M[idxs].index[:-1])/2.\n",
    "\n",
    "M_bin=q_means\n",
    "\n",
    "N=df.shape[0]\n",
    "\n",
    "def fit_teo(X_data, gamma, thetac, N=df.dropna(how=\"all\", axis=1).shape[0]):\n",
    "    \"\"\"\n",
    "    - gamma: Zipf exponent\n",
    "    - theta_c: Occurrences thresholds\n",
    "    \"\"\"\n",
    "    M_bin = X_data\n",
    "    \n",
    "    i = np.arange(1,N+1, step=1)\n",
    "    alpha_i=i**(-gamma)\n",
    "    alpha=np.sum(alpha_i, axis=0)\n",
    "    # predicted core size \n",
    "\n",
    "    k=M_bin**(1/gamma)/(alpha**(1/gamma)*N)\n",
    "    c=k*(-np.log(1-thetac))**(-1/gamma)\n",
    "    return c"
   ]
  },
  {
   "cell_type": "code",
   "execution_count": null,
   "id": "eb7f2727",
   "metadata": {},
   "outputs": [],
   "source": [
    "from scipy.optimize import curve_fit\n",
    "fig,ax = plt.subplots(figsize=(18,15))\n",
    "\n",
    "for (threshold,sizes_arr),(_, sizes_pred_arr), color in zip(sizes.items(),sizes_pred.items(),[\"blue\", \"gray\", \"red\", \"orange\", \"green\"]):\n",
    "    ax.plot(q_means, sizes_arr, lw=10, marker=\"o\", ms=45, c=color, label=f\"data\")\n",
    "    popt = [0.8, float(threshold)]\n",
    "    ax.plot(q_means, sizes_pred_arr, c=\"dark\"+color, lw=15, ls=\"--\", label=\"sampling ($\\\\theta_c$=%.2f)\"%(popt[1]), alpha=0.7)\n",
    "    #ax.plot(q_means, fit_teo(q_means, *popt), c=\"dark\"+color, lw=15, ls=\"--\", label=\"predicted ($\\\\theta_c$=%.2f)\"%(popt[1]), alpha=0.7)\n",
    "\n",
    "threshold = 0.9\n",
    "#ax.plot(q_means, sizes[\"0.9\"], lw=15, marker=\"o\", ms=30, c=\"gray\", label=f\"data with thr={threshold}\")\n",
    "\n",
    "\n",
    "#popt, pcov = curve_fit(fit_teo, q_means, sizes[\"0.9\"], p0=[0.8, 0.95])\n",
    "popt = [0.8, 0.9]\n",
    "#ax.plot(q_means, fit_teo(q_means, *popt), lw=15, ls=\"--\", label=\"predicted (gamma=%.2f; thetac=%.2f)\"%(popt[0],popt[1]), alpha=0.8, c=\"orange\")\n",
    "\n",
    "ax.set_ylim(0.,max(list(map(max,list(zip(*sizes.items()))[1])))*1.8)\n",
    "\n",
    "ax.set_ylabel(\"Core size\", fontsize=45)\n",
    "ax.set_xlabel(\"Total reads per cell, $M$\", fontsize=45)\n",
    "\n",
    "ax.tick_params(labelsize=35, width=8, length=20)\n",
    "ax.tick_params(which=\"minor\", labelsize=35, width=5, length=15)\n",
    "\n",
    "ax.legend(ncol=2,fontsize=30)\n",
    "plt.show()\n",
    "fig.savefig(f\"U_core_prediction_{tissue}_allthr.pdf\")"
   ]
  },
  {
   "cell_type": "code",
   "execution_count": null,
   "id": "6e97f930",
   "metadata": {},
   "outputs": [],
   "source": [
    "df = df[M.index]\n",
    "A = df.sum(1)\n",
    "f = df.divide(df.sum(0), 1).mean(1).sort_values(ascending=False)\n",
    "#df=df[df.index.isin(f[49:4500].index)]\n",
    "#save_model(df,tissue=\"bonemarrow_M100\",name=\"data\", n_bins=15)\n",
    "#mazzolini(np.repeat(M.mean(), len(M)), A/A.sum(), \"bonemarrow_M_avg\", n_bins=15)"
   ]
  },
  {
   "cell_type": "code",
   "execution_count": null,
   "id": "075ee65c",
   "metadata": {},
   "outputs": [],
   "source": [
    "fig,ax = plt.subplots(figsize=(18,15))\n",
    "x = np.arange(1, len(f))\n",
    "ax.set_ylabel(\"$Frequency, f_i$\", fontsize=35)\n",
    "ax.set_xlabel(\"$RANK, i$\", fontsize=35)\n",
    "ax.set_yscale('log')\n",
    "ax.set_xscale('log')\n",
    "#plt.ylim(1e-7,1)\n",
    "ax.plot(x, np.power(x,-0.8)*1e-1, 'g--', lw=10, label='$k*i^{-0.8}$')\n",
    "ax.plot(np.sort(f.dropna())[::-1]/f.sum(), c='blue', lw=15, label='Genes')\n",
    "if \"f_null\" in vars().keys():\n",
    "    ax.plot(np.sort(f_null/f_null.sum())[::-1], c='orange', ls='--', lw=15, label='null_model')\n",
    "    \n",
    "ax.tick_params(labelsize=35, width=8, length=20)\n",
    "ax.tick_params(which=\"minor\", labelsize=35, width=5, length=15)\n",
    "\n",
    "ax.legend(fontsize=35)\n",
    "plt.show()\n",
    "#fig.savefig(\"zipf.pdf\")"
   ]
  },
  {
   "cell_type": "markdown",
   "id": "6b70b959",
   "metadata": {},
   "source": [
    "## Predict O"
   ]
  },
  {
   "cell_type": "code",
   "execution_count": null,
   "id": "0140c968",
   "metadata": {},
   "outputs": [],
   "source": [
    "P = df.divide(df.sum(0),1).mean(1)\n",
    "P = P/P.sum()\n",
    "M = df.sum(0)\n",
    "O = df.apply(lambda x: (x>0).sum()/len(x), axis=1)\n",
    "R = M.shape[0]"
   ]
  },
  {
   "cell_type": "code",
   "execution_count": null,
   "id": "cb514ebd",
   "metadata": {},
   "outputs": [],
   "source": [
    "O_real = np.array([])\n",
    "O_pred = np.array([])\n",
    "O_pred_ds = np.array([])\n",
    "\n",
    "\n",
    "step = 1500\n",
    "for start in range(0,len(O),step):\n",
    "    print(start)\n",
    "    mask = np.repeat(False, len(O))\n",
    "    mask[start:start+step]=True\n",
    "\n",
    "    O_real = np.concatenate([O_real,O[mask]])\n",
    "    O_pred = np.concatenate([O_pred,list(map(lambda p: 1-1/R*np.sum(np.exp(-p*M)),P[mask]))])\n",
    "    \n",
    "genes = df.index[O_real < (0.8*O_pred)].values"
   ]
  },
  {
   "cell_type": "code",
   "execution_count": null,
   "id": "842a4583",
   "metadata": {},
   "outputs": [],
   "source": [
    "f = P\n",
    "\n",
    "pos_mask = (~f.isna()) & (f>0)\n",
    "\n",
    "g_high = f.index[O_pred > O_real + 0.2].values\n",
    "g_low = f.index[O_pred < O_real * 0.6 - 0.03].values\n",
    "\n",
    "#mask_high = (f.index.isin(g_high)) & (pos_mask)\n",
    "#mask_low = (f.index.isin(g_low)) & (pos_mask)\n",
    "#mask_nc = (f.index.isin(nc)) & (pos_mask)\n",
    "\n",
    "f_sorted = f[f>0].sort_values(ascending=False)\n",
    "mask_sorted_high = f_sorted.index.isin(g_high)\n",
    "mask_sorted_low = f_sorted.index.isin(g_low)"
   ]
  },
  {
   "cell_type": "code",
   "execution_count": null,
   "id": "348213d5",
   "metadata": {},
   "outputs": [],
   "source": [
    "def p(o, M, gamma, N):\n",
    "    i = np.arange(1, N+1, step=1)\n",
    "    alpha_i = i**(-gamma)\n",
    "    alpha = np.sum(alpha_i, axis=0)\n",
    "    p_num = (1-o)**(1/M-1)\n",
    "    K = (1-(1-o)**(1/M))**(1+1/gamma)\n",
    "    p_den = gamma*M*N*(alpha**(1/gamma))*K\n",
    "    return p_num/p_den"
   ]
  },
  {
   "cell_type": "code",
   "execution_count": null,
   "id": "24aab724",
   "metadata": {},
   "outputs": [],
   "source": [
    "fig, ax = plt.subplots(figsize=(18,15))\n",
    "\n",
    "nbins = 25\n",
    "rang = (0-0.5/nbins, 1+0.5/nbins)\n",
    "\n",
    "#bins = np.logspace(np.log10(1e-2),np.log10(rang[1]),num=nbins)\n",
    "bins=np.linspace(1e-4,rang[1],num=nbins)\n",
    "\n",
    "ax.hist(O, bins=bins, color = \"gray\", label=\"data\", density=True)\n",
    "\n",
    "O_pred_hist, bin_edges = np.histogram(O_pred, bins=bins, density=True)\n",
    "ax.plot((bin_edges[:-1]+bin_edges[1:])/2, O_pred_hist, ls='--', lw=10, c=\"red\", label=\"O_predicted\")\n",
    "#ax.hist(load_tissue(\"Bone-Marrow_c-kit\",name=\"mazzolini\")[\"O\"], histtype=\"step\", ls='--', bins=bins, density=True, color=\"orange\", lw=10, label=\"sampling\")\n",
    "\n",
    "ax.plot(bins,[p(x, M.mean(), 0.8, len(O)) for x in bins], lw=15, ls=\"--\", color=\"darkred\", label=\"teo_prediction <M>\")\n",
    "\n",
    "\n",
    "ax.tick_params(labelsize=35, width=8, length=20)\n",
    "ax.tick_params(which=\"minor\", width=5, length=10)\n",
    "\n",
    "ax.set_yscale('log')\n",
    "#ax.set_xscale('log')\n",
    "\n",
    "ax.set_ylim(5e-4,1e2)\n",
    "\n",
    "ax.legend(fontsize=35)\n",
    "ax.set_xlabel(\"Occurrence, $O_i$\", fontsize=35)\n",
    "ax.set_ylabel(\"pdf\", fontsize=35)\n",
    "\n",
    "plt.tight_layout()\n",
    "plt.show()\n",
    "fig.savefig(f\"U_{tissue}_sampling_pred.pdf\")"
   ]
  },
  {
   "cell_type": "code",
   "execution_count": null,
   "id": "f03d0668",
   "metadata": {},
   "outputs": [],
   "source": []
  }
 ],
 "metadata": {
  "kernelspec": {
   "display_name": "Python 3",
   "language": "python",
   "name": "python3"
  },
  "language_info": {
   "codemirror_mode": {
    "name": "ipython",
    "version": 3
   },
   "file_extension": ".py",
   "mimetype": "text/x-python",
   "name": "python",
   "nbconvert_exporter": "python",
   "pygments_lexer": "ipython3",
   "version": "3.8.5"
  }
 },
 "nbformat": 4,
 "nbformat_minor": 5
}
