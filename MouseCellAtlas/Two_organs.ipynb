{
 "cells": [
  {
   "cell_type": "code",
   "execution_count": null,
   "metadata": {},
   "outputs": [],
   "source": [
    "import numpy as np\n",
    "from scipy import stats\n",
    "import matplotlib.pyplot as plt\n",
    "import logging, sys, gc\n",
    "import pandas as pd\n",
    "from scipy.stats import binned_statistic\n",
    "from scipy.optimize import curve_fit\n",
    "from frontiers_analysis import load_tissue"
   ]
  },
  {
   "cell_type": "code",
   "execution_count": null,
   "metadata": {},
   "outputs": [],
   "source": [
    "tissues = [\"Placenta\", \"Lung\"]\n",
    "colors = [\"orange\", \"blue\"]\n",
    "tissue, other_tissue = tissues"
   ]
  },
  {
   "cell_type": "code",
   "execution_count": null,
   "metadata": {},
   "outputs": [],
   "source": [
    "df = pd.read_csv(f\"mca/mainTable_{tissue}.csv\", index_col=0)\n",
    "M = df.sum(0)\n",
    "f = df.divide(M,1).mean(1)\n",
    "O = df.apply(lambda x: (x>0).sum(), 1)"
   ]
  },
  {
   "cell_type": "code",
   "execution_count": null,
   "metadata": {},
   "outputs": [],
   "source": [
    "other_df = pd.read_csv(f\"mca/mainTable_{other_tissue}.csv\", index_col=0)\n",
    "other_M = other_df.sum(0)\n",
    "other_f = other_df.divide(other_M,1).mean(1)\n",
    "other_O = other_df.apply(lambda x: (x>0).sum(), 1)"
   ]
  },
  {
   "cell_type": "code",
   "execution_count": null,
   "metadata": {},
   "outputs": [],
   "source": [
    "merged_df = df.join(other_df, how=\"outer\").fillna(0)\n",
    "print(merged_df.shape)\n",
    "merged_M = merged_df.sum(0)\n",
    "merged_f = merged_df.divide(merged_M,1).mean(1)\n",
    "merged_O = merged_df.apply(lambda x: (x>0).sum(), 1)"
   ]
  },
  {
   "cell_type": "code",
   "execution_count": null,
   "metadata": {},
   "outputs": [],
   "source": [
    "from methods import mazzolini as sampling"
   ]
  },
  {
   "cell_type": "markdown",
   "metadata": {},
   "source": [
    "# Create models"
   ]
  },
  {
   "cell_type": "code",
   "execution_count": null,
   "metadata": {},
   "outputs": [],
   "source": [
    "model = sampling(M=M, f=f)\n",
    "other_model = sampling(M=other_M, f=other_f)\n",
    "models = [model, other_model]\n",
    "for method in models:\n",
    "    print(method)\n",
    "    method.run()\n",
    "    \n",
    "merged_model = sampling(M=merged_M, f=merged_f)\n",
    "merged_model.run()"
   ]
  },
  {
   "cell_type": "markdown",
   "metadata": {},
   "source": [
    "## Zipf"
   ]
  },
  {
   "cell_type": "code",
   "execution_count": null,
   "metadata": {},
   "outputs": [],
   "source": [
    "plt.plot(np.sort(f/f.sum())[::-1], lw=10, c=colors[0], alpha=0.5, label=tissue)\n",
    "plt.plot(np.sort(other_f/other_f.sum())[::-1], lw=10, c=colors[1], alpha=0.5, label=other_tissue)\n",
    "\n",
    "for model, c in zip(models, colors):\n",
    "    plt.plot(model.get_f(), lw=10, alpha=0.5, ls=\":\", c=\"dark\"+c)\n",
    "\n",
    "plt.xlabel(\"i\")\n",
    "plt.ylabel(\"f\")\n",
    "\n",
    "plt.xscale(\"log\")\n",
    "plt.yscale(\"log\")\n",
    "\n",
    "plt.legend()"
   ]
  },
  {
   "cell_type": "markdown",
   "metadata": {},
   "source": [
    "## Heaps"
   ]
  },
  {
   "cell_type": "code",
   "execution_count": null,
   "metadata": {},
   "outputs": [],
   "source": [
    "bins = np.logspace(np.log10(merged_M.min()), np.log10(merged_M.max()), 35)\n",
    "#bins = np.linspace(M.min(), M.max(), 35)\n",
    "\n",
    "h = merged_df.apply(lambda x: (x>0).sum())\n",
    "plt.scatter(merged_M, h, c=\"gray\", alpha=0.8, label=\"data\")\n",
    "\n",
    "means, edges, _ = binned_statistic(merged_M, h, bins=bins)\n",
    "var, edges, _ = binned_statistic(merged_M, h, statistic=\"std\", bins=bins)\n",
    "cnt, edges, _ = binned_statistic(merged_M, h, statistic=\"count\", bins=bins)\n",
    "var = var*var\n",
    "mask = cnt > 10\n",
    "means = means[mask]\n",
    "var = var[mask]\n",
    "l_edges = (edges[:-1])[mask]\n",
    "r_edges = (edges[1:])[mask]\n",
    "plt.hlines(means, l_edges, r_edges, lw=5, color=\"black\", ls=\"--\")\n",
    "\n",
    "print(model.name_)\n",
    "means, edges, _ = binned_statistic(merged_M, merged_model.get_h(), bins=bins)\n",
    "var, edges, _ = binned_statistic(merged_M, merged_model.get_h(), statistic=\"std\", bins=bins)\n",
    "cnt, edges, _ = binned_statistic(merged_M, merged_model.get_h(), statistic=\"count\", bins=bins)\n",
    "var = var*var\n",
    "mask = cnt > 100\n",
    "means = means[mask]\n",
    "var = var[mask]\n",
    "l_edges = (edges[:-1])[mask]\n",
    "r_edges = (edges[1:])[mask]\n",
    "\n",
    "merged_model.hmean = means\n",
    "merged_model.hvar = var\n",
    "merged_model.cnt = cnt\n",
    "\n",
    "plt.hlines(means, l_edges, r_edges, lw=5, color=\"dark\"+model.color_, ls=\"--\")\n",
    "\n",
    "plt.scatter(merged_M, merged_model.get_h(), alpha=0.2, c=model.color_, label=model.name_)\n",
    "\n",
    "plt.xlabel(\"M\")\n",
    "plt.ylabel(\"h\")\n",
    "\n",
    "plt.legend()"
   ]
  },
  {
   "cell_type": "markdown",
   "metadata": {},
   "source": [
    "### Fluctuations"
   ]
  },
  {
   "cell_type": "code",
   "execution_count": null,
   "metadata": {},
   "outputs": [],
   "source": [
    "h = merged_df.apply(lambda x: (x>0).sum())\n",
    "means, edges, _ = binned_statistic(merged_M, h, bins=bins)\n",
    "var, edges, _ = binned_statistic(merged_M, h, statistic=\"std\", bins=bins)\n",
    "var = var*var\n",
    "mask = cnt > 100\n",
    "means = means[mask]\n",
    "var = var[mask]\n",
    "\n",
    "x = means\n",
    "\n",
    "plt.scatter(means, var, c=\"gray\", alpha=0.8, label=\"data\")\n",
    "\n",
    "popt, pcov= curve_fit(lambda x, C: C*x, means, var)\n",
    "plt.plot(x, popt[0]*x, lw=5, ls=\"--\", c=\"cyan\", alpha=0.8, label=\"C*<h>\")\n",
    "\n",
    "popt, pcov= curve_fit(lambda x, C: C*x*x, means, var)\n",
    "plt.plot(x, popt[0]*x**2, lw=5, ls=\"--\", c=\"purple\", alpha=0.8, label =\"C*<h>^2\")\n",
    "\n",
    "plt.xlabel(\"<h>\")\n",
    "plt.ylabel(\"var(h)\")\n",
    "\n",
    "plt.xscale(\"log\")\n",
    "plt.yscale(\"log\")\n",
    "\n",
    "plt.legend()\n",
    "\n",
    "#plt.ylim(1e2,1e3)"
   ]
  },
  {
   "cell_type": "markdown",
   "metadata": {},
   "source": [
    "## Predicted occurrences"
   ]
  },
  {
   "cell_type": "code",
   "execution_count": null,
   "metadata": {},
   "outputs": [],
   "source": [
    "Os = []\n",
    "for i in range(5):\n",
    "    method = sampling(M=M, f=f)\n",
    "    method.run()\n",
    "    print(i, method)\n",
    "    Os.append(method.get_O())\n",
    "O_sampling = np.average(Os, axis=0)\n",
    "\n",
    "Os = []\n",
    "for i in range(5):\n",
    "    method = sampling(M=other_M, f=other_f)\n",
    "    method.run()\n",
    "    print(i, method)\n",
    "    Os.append(method.get_O())\n",
    "O_other_sampling = np.average(Os, axis=0)\n",
    "\n",
    "Os = []\n",
    "for i in range(5):\n",
    "    method = sampling(M=merged_M, f=merged_f)\n",
    "    method.run()\n",
    "    print(i, method)\n",
    "    Os.append(method.get_O())\n",
    "O_merged_sampling = np.average(Os, axis=0)"
   ]
  },
  {
   "cell_type": "code",
   "execution_count": null,
   "metadata": {},
   "outputs": [],
   "source": [
    "mask = (O_merged_sampling-merged_O/merged_df.shape[1])>0.2"
   ]
  },
  {
   "cell_type": "code",
   "execution_count": null,
   "metadata": {},
   "outputs": [],
   "source": [
    "fig, axs = plt.subplots(1, 1+len(models), figsize=(30, 15))\n",
    "\n",
    "models[0].color_=\"gray\"\n",
    "models[1].color_=\"gray\"\n",
    "for model, ax in zip(models, axs):\n",
    "    ax.set_title(model.name_, fontsize=35)\n",
    "    \n",
    "axs[0].scatter(O/df.shape[1], O_sampling, alpha=0.5, s=350, color=\"gray\", marker=\"o\")    \n",
    "axs[1].scatter(other_O/other_df.shape[1], O_other_sampling, alpha=0.5, s=350, color=\"gray\", marker=\"o\")  \n",
    "axs[2].scatter(merged_O/merged_df.shape[1], O_merged_sampling, alpha=0.5, s=350, color=\"gray\", marker=\"o\")\n",
    "axs[2].scatter((merged_O/merged_df.shape[1])[mask], O_merged_sampling[mask], alpha=0.5, s=350, color=\"red\", marker=\"o\")\n",
    "\n",
    "for ax in axs:\n",
    "    ax.plot([0,1], [0,1], lw=20, alpha=0.7,ls=\"--\", c=\"black\")\n",
    "    ax.tick_params(labelsize=40, width=5, size=10)\n",
    "    ax.set_xlabel(\"$o_i$, empirical\", fontsize=65)\n",
    "    ax.set_ylabel(\"$o_i$, predicted\", fontsize=65)\n",
    "    \n",
    "axs[0].set_title(\"Sampling model {}\".format(tissue), fontsize=55)\n",
    "axs[1].set_title(\"Sampling model {}\".format(other_tissue), fontsize=55)\n",
    "axs[2].set_title(\"Merged\", fontsize=55)\n",
    "\n",
    "plt.tight_layout()\n",
    "plt.show()\n",
    "fig.savefig(f\"Oreal_Opred_poissonModel_{tissue}.pdf\")"
   ]
  },
  {
   "cell_type": "code",
   "execution_count": null,
   "metadata": {},
   "outputs": [],
   "source": [
    "for g in (merged_O/merged_df.shape[1])[mask].index:\n",
    "    print(g)"
   ]
  },
  {
   "cell_type": "code",
   "execution_count": null,
   "metadata": {},
   "outputs": [],
   "source": []
  }
 ],
 "metadata": {
  "kernelspec": {
   "display_name": "Python 3",
   "language": "python",
   "name": "python3"
  },
  "language_info": {
   "codemirror_mode": {
    "name": "ipython",
    "version": 3
   },
   "file_extension": ".py",
   "mimetype": "text/x-python",
   "name": "python",
   "nbconvert_exporter": "python",
   "pygments_lexer": "ipython3",
   "version": "3.8.8"
  }
 },
 "nbformat": 4,
 "nbformat_minor": 4
}
