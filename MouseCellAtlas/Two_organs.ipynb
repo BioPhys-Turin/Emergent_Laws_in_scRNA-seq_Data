{
 "cells": [
  {
   "cell_type": "code",
   "execution_count": null,
   "metadata": {},
   "outputs": [],
   "source": [
    "%load_ext watermark\n",
    "%watermark -a Filippo_Valle -p numpy,scipy,pandas -m -r -b"
   ]
  },
  {
   "cell_type": "code",
   "execution_count": null,
   "metadata": {},
   "outputs": [],
   "source": [
    "import numpy as np\n",
    "from scipy import stats\n",
    "import matplotlib.pyplot as plt\n",
    "import logging, sys, gc\n",
    "import pandas as pd\n",
    "from scipy.stats import binned_statistic\n",
    "from scipy.optimize import curve_fit\n",
    "from frontiers_analysis import load_tissue\n",
    "from methods import mazzolini as sampling\n",
    "from scipy.stats import pearsonr"
   ]
  },
  {
   "cell_type": "code",
   "execution_count": null,
   "metadata": {},
   "outputs": [],
   "source": [
    "tissues = [\"Brain\", \"Ovary\"]\n",
    "colors = [\"orange\", \"blue\"]\n",
    "tissue, other_tissue = tissues"
   ]
  },
  {
   "cell_type": "code",
   "execution_count": null,
   "metadata": {},
   "outputs": [],
   "source": [
    "df = pd.read_csv(f\"mca/mainTable_{tissue}.csv\", index_col=0).sample(500, axis=1)\n",
    "#df = pd.read_csv(\"../Smartseq3.HEK.fwdprimer.UMIcounts.txt\", sep=\"\\t\")\n",
    "M = df.sum(0)\n",
    "f = df.divide(M,1).mean(1)\n",
    "O = df.apply(lambda x: (x>0).sum(), 1)"
   ]
  },
  {
   "cell_type": "code",
   "execution_count": null,
   "metadata": {},
   "outputs": [],
   "source": [
    "other_df = pd.DataFrame()\n",
    "reader = pd.read_csv(f\"mca/mainTable_{other_tissue}.csv\", chunksize=1000, index_col=0)\n",
    "for subdf in reader:\n",
    "    other_df = other_df.append(subdf[subdf.columns[:df.shape[1]]])\n",
    "#other_df = pd.read_csv(\"../Smartseq3.Fibroblasts.NovaSeq.UMIcounts.txt\", sep=\"\\t\")\n",
    "other_M = other_df.sum(0)\n",
    "other_f = other_df.divide(other_M,1).mean(1)\n",
    "other_O = other_df.apply(lambda x: (x>0).sum(), 1)"
   ]
  },
  {
   "cell_type": "code",
   "execution_count": null,
   "metadata": {},
   "outputs": [],
   "source": [
    "ortho = pd.read_csv(\"orthologues.txt\").set_index(\"Gene stable ID\")\n",
    "other_df = other_df.join(ortho[\"Human gene stable ID\"], how=\"inner\").set_index(\"Human gene stable ID\")"
   ]
  },
  {
   "cell_type": "code",
   "execution_count": null,
   "metadata": {},
   "outputs": [],
   "source": [
    "cell_types = pd.read_csv(\"DGE/Adult-Brain_anno.csv\", index_col=0).append(\n",
    "pd.read_csv(\"DGE/Adult-Kidney_anno.csv\", index_col=0)).append(\n",
    "pd.read_csv(\"DGE/Adult-Muscle_anno.csv\", index_col=0)).append(\n",
    "pd.read_csv(\"DGE/Peripheral-Blood_anno.csv\", index_col=0))"
   ]
  },
  {
   "cell_type": "code",
   "execution_count": null,
   "metadata": {},
   "outputs": [],
   "source": [
    "merged_df = df.join(other_df, how=\"outer\", lsuffix=tissues[0], rsuffix=tissues[1]).fillna(0)\n",
    "print(merged_df.shape)\n",
    "merged_M = merged_df.sum(0)\n",
    "merged_f = merged_df.divide(merged_M,1).mean(1)\n",
    "#merged_O = merged_df.apply(lambda x: (x>0).sum(), 1)\n",
    "\n",
    "merged_model = sampling(M=merged_M, f=merged_f)\n",
    "merged_model.run()"
   ]
  },
  {
   "cell_type": "markdown",
   "metadata": {},
   "source": [
    "# Create models"
   ]
  },
  {
   "cell_type": "code",
   "execution_count": null,
   "metadata": {},
   "outputs": [],
   "source": [
    "model = sampling(M=M, f=f)\n",
    "other_model = sampling(M=other_M, f=other_f)\n",
    "models = [model]\n",
    "for method in models:\n",
    "    print(method)\n",
    "    method.run()\n",
    "    \n",
    "gc.collect()"
   ]
  },
  {
   "cell_type": "markdown",
   "metadata": {},
   "source": [
    "## Zipf"
   ]
  },
  {
   "cell_type": "code",
   "execution_count": null,
   "metadata": {},
   "outputs": [],
   "source": [
    "plt.plot(np.sort(f/f.sum())[::-1], lw=10, c=colors[0], alpha=0.5, label=tissue)\n",
    "plt.plot(np.sort(other_f/other_f.sum())[::-1], lw=10, c=colors[1], alpha=0.5, label=other_tissue)\n",
    "\n",
    "for model, c in zip(models, colors):\n",
    "    plt.plot(model.get_f(), lw=10, alpha=0.5, ls=\":\", c=\"dark\"+c)\n",
    "\n",
    "plt.xlabel(\"i\")\n",
    "plt.ylabel(\"f\")\n",
    "\n",
    "plt.xscale(\"log\")\n",
    "plt.yscale(\"log\")\n",
    "\n",
    "plt.legend()"
   ]
  },
  {
   "cell_type": "markdown",
   "metadata": {},
   "source": [
    "## Heaps"
   ]
  },
  {
   "cell_type": "code",
   "execution_count": null,
   "metadata": {},
   "outputs": [],
   "source": [
    "h = merged_df.apply(lambda x: (x>0).sum())"
   ]
  },
  {
   "cell_type": "code",
   "execution_count": null,
   "metadata": {},
   "outputs": [],
   "source": [
    "bins = np.logspace(np.log10(merged_M.min()), np.log10(merged_M.max()), 35)\n",
    "#bins = np.linspace(M.min(), M.max(), 35)\n",
    "\n",
    "fig=plt.figure(figsize=(18,15))\n",
    "plt.scatter(merged_M, h, c=\"gray\", alpha=0.8, label=\"data\")\n",
    "\n",
    "means, edges, _ = binned_statistic(merged_M, h, bins=bins)\n",
    "var, edges, _ = binned_statistic(merged_M, h, statistic=\"std\", bins=bins)\n",
    "cnt, edges, _ = binned_statistic(merged_M, h, statistic=\"count\", bins=bins)\n",
    "var = var*var\n",
    "mask = cnt > 10\n",
    "means = means[mask]\n",
    "var = var[mask]\n",
    "l_edges = (edges[:-1])[mask]\n",
    "r_edges = (edges[1:])[mask]\n",
    "plt.hlines(means, l_edges, r_edges, lw=5, color=\"black\", ls=\"--\")\n",
    "\n",
    "print(model.name_)\n",
    "means, edges, _ = binned_statistic(merged_M, merged_model.get_h(), bins=bins)\n",
    "var, edges, _ = binned_statistic(merged_M, merged_model.get_h(), statistic=\"std\", bins=bins)\n",
    "cnt, edges, _ = binned_statistic(merged_M, merged_model.get_h(), statistic=\"count\", bins=bins)\n",
    "var = var*var\n",
    "mask = cnt > 100\n",
    "means = means[mask]\n",
    "var = var[mask]\n",
    "l_edges = (edges[:-1])[mask]\n",
    "r_edges = (edges[1:])[mask]\n",
    "\n",
    "merged_model.hmean = means\n",
    "merged_model.hvar = var\n",
    "merged_model.cnt = cnt\n",
    "\n",
    "plt.scatter(merged_M, merged_model.get_h(), alpha=0.2, c=model.color_, label=model.name_)\n",
    "\n",
    "plt.scatter(merged_M[merged_df.columns.isin(df.columns)], h[merged_df.columns.isin(df.columns)], c=colors[0], marker=\"x\", s=200, alpha=0.8, label=tissues[0])\n",
    "plt.scatter(merged_M[merged_df.columns.isin(other_df.columns)], h[merged_df.columns.isin(other_df.columns)], c=colors[1], marker=\"x\", s=200, alpha=0.8, label=tissues[1])\n",
    "\n",
    "plt.xscale(\"log\")\n",
    "plt.yscale(\"log\")\n",
    "\n",
    "plt.xlabel(\"Total transcipts per cell, M\", fontsize=35)\n",
    "plt.ylabel(\"Number of expressed genes, h\", fontsize=35)\n",
    "plt.tick_params(which=\"both\", labelsize=30)\n",
    "\n",
    "plt.legend(fontsize=35)\n",
    "fig.savefig(f\"Heaps_{tissue}_{other_tissue}.pdf\")"
   ]
  },
  {
   "cell_type": "code",
   "execution_count": null,
   "metadata": {},
   "outputs": [],
   "source": [
    "fig, ax = plt.subplots(figsize=(18,15))\n",
    "\n",
    "masks = [(merged_df.columns.isin(subdf.columns)) for subdf in [df, other_df]]\n",
    "\n",
    "ytext = 0.005\n",
    "\n",
    "for mask, label, color in zip(masks, tissues, colors):\n",
    "    data = (h - merged_model.get_h())[mask]\n",
    "    ax.hist(data, histtype=\"step\", lw=10, color=color, label=label, density=True)\n",
    "    med = np.average(data)\n",
    "    ax.vlines(med, 0, 0.007, lw=12, ls=\":\", color=color)\n",
    "    ax.annotate(\"{mean:.0f}±{error:.0f}\".format(mean=med, error=np.std(data)), (med, ytext), fontsize=30)\n",
    "    ytext-=0.0001\n",
    "    \n",
    "ax.set_xlabel(\"h-h_sampling\", fontsize=35)\n",
    "ax.set_ylabel(\"pdf\", fontsize=35)\n",
    "ax.tick_params(labelsize=30)\n",
    "ax.legend(fontsize=30)\n",
    "\n",
    "plt.show()\n",
    "fig.savefig(f\"hhsampling_{tissue}_{other_tissue}.pdf\")"
   ]
  },
  {
   "cell_type": "code",
   "execution_count": null,
   "metadata": {},
   "outputs": [],
   "source": [
    "fig, ax = plt.subplots(figsize=(18,15))\n",
    "bins = np.linspace(-2000, 2000, 100)\n",
    "\n",
    "ytext = 0.001\n",
    "\n",
    "for subdf, label, color, model in zip([df, other_df], tissues, colors, models):\n",
    "    h = subdf.apply(lambda x: (x>0).sum())\n",
    "    data = (h - model.get_h())\n",
    "    ax.hist(data, histtype=\"step\", lw=10, color=color, label=label, bins=bins, density=True)\n",
    "    med = np.average(data)\n",
    "    ax.vlines(med, 0, 0.001, lw=12, ls=\":\", color=color)\n",
    "    ax.annotate(\"{mean:.0f}±{error:.0f}\".format(mean=med, error=np.std(data)), (med, ytext), fontsize=30)\n",
    "    ytext-=0.0001\n",
    "    \n",
    "h = merged_df.apply(lambda x: (x>0).sum())\n",
    "data = (h - merged_model.get_h())\n",
    "ax.hist(data, histtype=\"step\", lw=10, color=\"red\", label=\"Brain+Stomach\", bins=bins, density=True)\n",
    "med = np.average(data)\n",
    "ax.vlines(med, 0, 0.001, lw=12, ls=\":\", color=\"red\")\n",
    "ax.annotate(\"{mean:.0f}±{error:.0f}\".format(mean=med, error=np.std(data)), (med, ytext), fontsize=30)\n",
    "ytext-=0.0001\n",
    "    \n",
    "\n",
    "ax.set_xlabel(\"h-h_sampling\", fontsize=35)\n",
    "ax.set_ylabel(\"pdf\", fontsize=35)\n",
    "ax.tick_params(labelsize=30)\n",
    "ax.legend(fontsize=30)\n",
    "\n",
    "plt.show()\n",
    "fig.savefig(f\"hhspecificsampling_{tissue}_{other_tissue}.pdf\")"
   ]
  },
  {
   "cell_type": "code",
   "execution_count": null,
   "metadata": {},
   "outputs": [],
   "source": [
    "organs = np.array([\"Prostate\", \"Uterus\", \"Spleen\", \"Kidney\", \"Brain\", \"Ovary\", \"Peripheral_Blood\", \"Liver\", \"Testis\", \"Muscle\", \"Stomach\", \"Lung\", \"Pancreas\", \"Bladder\"])\n",
    "\n",
    "var = []\n",
    "skw = []\n",
    "n_cells = 200\n",
    "\n",
    "!rm -f hh_var.txt hh_skw.txt\n",
    "\n",
    "for _ in range(50):\n",
    "    permutation = organs[np.random.choice(list(range(len(organs))), size=len(organs), replace=False)]\n",
    "    print(\"***new permutation***\")\n",
    "    _var = []\n",
    "    _skw = []\n",
    "    \n",
    "    print(permutation[0])\n",
    "    merged_n_df = pd.read_csv(f\"mca/mainTable_{permutation[0]}.csv\", index_col=0).sample(n_cells, axis=1)\n",
    "    #df = pd.read_csv(\"../Smartseq3.HEK.fwdprimer.UMIcounts.txt\", sep=\"\\t\")\n",
    "    M = merged_n_df.sum(0)\n",
    "    f = merged_n_df.divide(M,1).mean(1)\n",
    "    print(merged_n_df.shape)\n",
    "    \n",
    "    model = sampling(M=M, f=f)\n",
    "    model.run()\n",
    "    \n",
    "    h = merged_n_df.apply(lambda x: (x>0).sum())\n",
    "    data = (h - model.get_h())\n",
    "    _skw.append(np.mean(data-np.mean(data)**3))\n",
    "    _var.append(np.var(data))\n",
    "        \n",
    "    del model\n",
    "    gc.collect()\n",
    "    \n",
    "    for tissue in permutation[1:]:\n",
    "        print(tissue)\n",
    "        other_df = pd.DataFrame()\n",
    "        reader = pd.read_csv(f\"mca/mainTable_{tissue}.csv\", chunksize=1000, index_col=0)\n",
    "        for subdf in reader:\n",
    "            other_df = other_df.append(subdf[subdf.columns[:n_cells]])\n",
    "\n",
    "\n",
    "        merged_n_df = merged_n_df.join(other_df, how=\"outer\", rsuffix=\"Ovary\").fillna(0)\n",
    "        print(merged_n_df.shape)\n",
    "        merged_n_M = merged_n_df.sum(0)\n",
    "        merged_n_f = merged_n_df.divide(merged_n_M,1).mean(1)\n",
    "\n",
    "        merged_n_model = sampling(M=merged_n_M, f=merged_n_f)\n",
    "        merged_n_model.run()\n",
    "\n",
    "        gc.collect()\n",
    "\n",
    "        h = merged_n_df.apply(lambda x: (x>0).sum())\n",
    "        data = (h - merged_n_model.get_h())\n",
    "        _skw.append(np.mean((data-np.mean(data))**3))\n",
    "        _var.append(np.var(data))\n",
    "\n",
    "        del merged_n_f, merged_n_M, merged_n_model, other_df\n",
    "        gc.collect()\n",
    "        \n",
    "    var.append(_var)\n",
    "    skw.append(_skw)\n",
    "    \n",
    "np.savetxt(\"hh_var.txt\", var)\n",
    "np.savetxt(\"hh_skw.txt\", var)"
   ]
  },
  {
   "cell_type": "code",
   "execution_count": null,
   "metadata": {},
   "outputs": [],
   "source": [
    "var = np.genfromtxt(\"hh_var.txt\")\n",
    "skw = np.genfromtxt(\"hh_skw.txt\")"
   ]
  },
  {
   "cell_type": "code",
   "execution_count": null,
   "metadata": {},
   "outputs": [],
   "source": [
    "fig, ax = plt.subplots(figsize=(12,8))\n",
    "\n",
    "y = var\n",
    "#for _var in y:\n",
    "#    ax.plot(range(1, 1+len(_var)), _var, lw=5, ms=20, color=\"gray\", alpha=0.2)\n",
    "    \n",
    "ax.errorbar(x=range(1, 1+len(var[0])), y=np.average(y, axis=0), yerr=np.std(y, axis=0), lw=5, ms=20, alpha=0.9, marker=\"o\", \n",
    "            label=\"data\\n(Pearson {:.2f})\".format(pearsonr(list(range(len(var[0]))), np.mean(var,0))[0]))\n",
    "\n",
    "\n",
    "ax.set_xlabel(\"# organs\", fontsize=35)\n",
    "ax.set_ylabel(\"Variance \\n ($h_j-h_{j,sampling}$)\", rotation=90, fontsize=35)\n",
    "ax.tick_params(width=5, length=10, labelsize=30)\n",
    "#ax.legend(loc=\"upper left\", fontsize=30)\n",
    "ax.set_xticks(range(1,1+len(var[0]), 2))\n",
    "\n",
    "plt.tight_layout()\n",
    "\n",
    "plt.show()\n",
    "fig.savefig(\"var_hh_#organs.pdf\")"
   ]
  },
  {
   "cell_type": "markdown",
   "metadata": {},
   "source": [
    "### Fluctuations"
   ]
  },
  {
   "cell_type": "code",
   "execution_count": null,
   "metadata": {},
   "outputs": [],
   "source": [
    "h = merged_df.apply(lambda x: (x>0).sum())\n",
    "means, edges, _ = binned_statistic(merged_M, h, bins=bins)\n",
    "var, edges, _ = binned_statistic(merged_M, h, statistic=\"std\", bins=bins)\n",
    "var = var*var\n",
    "mask = cnt > 100\n",
    "means = means[mask]\n",
    "var = var[mask]\n",
    "\n",
    "x = means\n",
    "\n",
    "plt.scatter(means, var, c=\"gray\", alpha=0.8, label=\"data\")\n",
    "\n",
    "popt, pcov= curve_fit(lambda x, C: C*x, means, var)\n",
    "plt.plot(x, popt[0]*x, lw=5, ls=\"--\", c=\"cyan\", alpha=0.8, label=\"C*<h>\")\n",
    "\n",
    "popt, pcov= curve_fit(lambda x, C: C*x*x, means, var)\n",
    "plt.plot(x, popt[0]*x**2, lw=5, ls=\"--\", c=\"purple\", alpha=0.8, label =\"C*<h>^2\")\n",
    "\n",
    "plt.xlabel(\"<h>\")\n",
    "plt.ylabel(\"var(h)\")\n",
    "\n",
    "plt.xscale(\"log\")\n",
    "plt.yscale(\"log\")\n",
    "\n",
    "plt.legend()\n",
    "\n",
    "#plt.ylim(1e2,1e3)"
   ]
  },
  {
   "cell_type": "markdown",
   "metadata": {},
   "source": [
    "## Predicted occurrences"
   ]
  },
  {
   "cell_type": "code",
   "execution_count": null,
   "metadata": {},
   "outputs": [],
   "source": [
    "Os = []\n",
    "for i in range(5):\n",
    "    method = sampling(M=M, f=f)\n",
    "    method.run()\n",
    "    print(i, method)\n",
    "    Os.append(method.get_O())\n",
    "O_sampling = np.average(Os, axis=0)\n",
    "\n",
    "Os = []\n",
    "for i in range(5):\n",
    "    method = sampling(M=other_M, f=other_f)\n",
    "    method.run()\n",
    "    print(i, method)\n",
    "    Os.append(method.get_O())\n",
    "O_other_sampling = np.average(Os, axis=0)\n",
    "\n",
    "Os = []\n",
    "for i in range(5):\n",
    "    method = sampling(M=merged_M, f=merged_f)\n",
    "    method.run()\n",
    "    print(i, method)\n",
    "    Os.append(method.get_O())\n",
    "O_merged_sampling = np.average(Os, axis=0)"
   ]
  },
  {
   "cell_type": "code",
   "execution_count": null,
   "metadata": {},
   "outputs": [],
   "source": [
    "thr = 0.2\n",
    "mask = (O_merged_sampling-merged_O/merged_df.shape[1]) > thr\n",
    "mask.sum()"
   ]
  },
  {
   "cell_type": "code",
   "execution_count": null,
   "metadata": {},
   "outputs": [],
   "source": [
    "fig, axs = plt.subplots(1, 1+len(models), figsize=(30, 15))\n",
    "\n",
    "models[0].color_=\"gray\"\n",
    "models[1].color_=\"gray\"\n",
    "for model, ax in zip(models, axs):\n",
    "    ax.set_title(model.name_, fontsize=35)\n",
    "    \n",
    "axs[0].scatter(O/df.shape[1], O_sampling, alpha=0.5, s=350, color=\"gray\", marker=\"o\")    \n",
    "axs[1].scatter(other_O/other_df.shape[1], O_other_sampling, alpha=0.5, s=350, color=\"gray\", marker=\"o\")  \n",
    "axs[2].scatter(merged_O/merged_df.shape[1], O_merged_sampling, alpha=0.5, s=350, color=\"gray\", marker=\"o\")\n",
    "axs[2].scatter((merged_O/merged_df.shape[1])[mask], O_merged_sampling[mask], alpha=0.5, s=350, color=\"red\", marker=\"o\")\n",
    "\n",
    "for ax in axs:\n",
    "    ax.plot([0,1], [0,1], lw=20, alpha=0.7,ls=\"--\", c=\"black\")\n",
    "    ax.tick_params(labelsize=40, width=5, size=10)\n",
    "    ax.set_xlabel(\"$o_i$, empirical\", fontsize=65)\n",
    "    ax.set_ylabel(\"$o_i$, predicted\", fontsize=65)\n",
    "    \n",
    "axs[0].set_title(\"Sampling model {}\".format(tissue), fontsize=55)\n",
    "axs[1].set_title(\"Sampling model {}\".format(other_tissue), fontsize=55)\n",
    "axs[2].set_title(\"Merged\", fontsize=55)\n",
    "\n",
    "plt.tight_layout()\n",
    "plt.show()\n",
    "fig.savefig(f\"Oreal_Opred_poissonModel_{tissue}.pdf\")"
   ]
  },
  {
   "cell_type": "code",
   "execution_count": null,
   "metadata": {},
   "outputs": [],
   "source": [
    "for g in (merged_O/merged_df.shape[1])[mask].index:\n",
    "    print(g)"
   ]
  },
  {
   "cell_type": "code",
   "execution_count": null,
   "metadata": {},
   "outputs": [],
   "source": [
    "with open(f\"Joint_OrealOpred_overlist_{tissue}_{other_tissue}_{thr}.txt\", \"w\") as file:\n",
    "    list(map(lambda g: file.write(g+\"\\n\"), (merged_O/merged_df.shape[1])[mask].index))"
   ]
  },
  {
   "cell_type": "code",
   "execution_count": null,
   "metadata": {},
   "outputs": [],
   "source": []
  }
 ],
 "metadata": {
  "kernelspec": {
   "display_name": "Python 3 (ipykernel)",
   "language": "python",
   "name": "python3"
  },
  "language_info": {
   "codemirror_mode": {
    "name": "ipython",
    "version": 3
   },
   "file_extension": ".py",
   "mimetype": "text/x-python",
   "name": "python",
   "nbconvert_exporter": "python",
   "pygments_lexer": "ipython3",
   "version": "3.8.5"
  }
 },
 "nbformat": 4,
 "nbformat_minor": 4
}
