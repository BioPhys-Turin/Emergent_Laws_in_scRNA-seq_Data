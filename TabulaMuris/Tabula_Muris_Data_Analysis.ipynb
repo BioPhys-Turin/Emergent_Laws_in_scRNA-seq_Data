{
 "cells": [
  {
   "cell_type": "markdown",
   "metadata": {},
   "source": [
    "# IMPORT LIBRARIES"
   ]
  },
  {
   "cell_type": "markdown",
   "metadata": {},
   "source": [
    "This notebook requires the following libraries:"
   ]
  },
  {
   "cell_type": "code",
   "execution_count": null,
   "metadata": {},
   "outputs": [],
   "source": [
    "import pandas as pd\n",
    "import numpy as np\n",
    "import scipy\n",
    "from scipy.interpolate import interpn\n",
    "from scipy import stats\n",
    "import matplotlib.pyplot as plt\n",
    "import seaborn as sns\n",
    "from pathlib2 import Path\n",
    "import os\n",
    "import pickle"
   ]
  },
  {
   "cell_type": "code",
   "execution_count": null,
   "metadata": {},
   "outputs": [],
   "source": [
    "%load_ext watermark\n",
    "%watermark -v -m  -u -n -p pandas,numpy,scipy,matplotlib,seaborn,pathlib2 -a Silvia_Lazzardi -g -r -b -w"
   ]
  },
  {
   "cell_type": "markdown",
   "metadata": {},
   "source": [
    "# DOWNLOAD AND PREPARE DATA"
   ]
  },
  {
   "cell_type": "markdown",
   "metadata": {},
   "source": [
    "## Define Paths"
   ]
  },
  {
   "cell_type": "code",
   "execution_count": null,
   "metadata": {},
   "outputs": [],
   "source": [
    "# Specify here your own paths here\n",
    "path_all_data=Path('')\n",
    "path_csv = Path('')\n",
    "path_csv_mca = Path('')\n",
    "path_data_counts = Path('')\n",
    "path_data_mca = Path('')\n",
    "path_sampling_model = Path('')"
   ]
  },
  {
   "cell_type": "code",
   "execution_count": null,
   "metadata": {},
   "outputs": [],
   "source": [
    "path_all_data=Path('data_all.pkl')\n",
    "path_data_counts = Path('./counts')\n",
    "path_data_mca=Path('Bone_Marrow.npy')\n",
    "path_sampling_model = Path('Bone_Marrow_sampling.npy')"
   ]
  },
  {
   "cell_type": "markdown",
   "metadata": {},
   "source": [
    "Please, download data from the Tabula Muris consorzium:\n",
    "\n",
    "https://ndownloader.figshare.com/articles/5715040/versions/1 \n",
    "\n",
    "Un-zip the folder and put the csv files in 'path_csv'.\n",
    "\n",
    "The folder contains gene-count tables for FACS sorted cells sequenced with Smart-Seq2 from 20 organs of 7 mice. Cells are grouped by tissue of origin. It Includes data for 53,760 cells, 44,879 of which passed a QC cutoff of at least 500 genes and 50,000 reads. \n",
    "\n",
    "This is the list of files currently present in the Tabula Muris FACS database:"
   ]
  },
  {
   "cell_type": "code",
   "execution_count": null,
   "metadata": {},
   "outputs": [],
   "source": [
    "organ_list=os.listdir(path_counts)"
   ]
  },
  {
   "cell_type": "code",
   "execution_count": null,
   "metadata": {},
   "outputs": [],
   "source": [
    "tm=[organ.split('.')[0] for organ in organ_list]"
   ]
  },
  {
   "cell_type": "markdown",
   "metadata": {},
   "source": [
    "To get ready for the analysis, let's prepare the data sets by leaving out the cells which do not passed the QC control defined above.\n",
    "\n",
    "This operation takes long time..."
   ]
  },
  {
   "cell_type": "code",
   "execution_count": null,
   "metadata": {},
   "outputs": [],
   "source": [
    "def save_count_matrices(path_csv,path_data_counts, organ_name):\n",
    "    path_save = path_data_counts/'{}.npy'.format(organ_name)\n",
    "    organ='{}-counts.csv'.format(('_').join(organ_name.split(' ')))\n",
    "    df=pd.read_csv(str(path_csv/organ), header=0) \n",
    "    counts=np.array(df)[:,1:]\n",
    "    sizes=np.sum(counts,axis=0)\n",
    "    genes_for_cell = np.array([(np.argwhere(counts[:,j]>0)).shape[0] for j in range(counts.shape[1])])\n",
    "    cells_to_drop1 = np.concatenate(np.argwhere(sizes<50000))\n",
    "    cells_to_drop2 = np.concatenate(np.argwhere(genes_for_cell<500))\n",
    "    cells_to_drop= np.unique(np.concatenate((cells_to_drop1, cells_to_drop2)))\n",
    "    idx=np.delete(np.arange(0,counts.shape[1]),cells_to_drop)\n",
    "    counts=counts[:,idx]\n",
    "    np.save(str(path_save),counts)"
   ]
  },
  {
   "cell_type": "code",
   "execution_count": null,
   "metadata": {},
   "outputs": [],
   "source": [
    "for organ_name in tm:\n",
    "    save_count_matrices(path_csv,path_data_counts, organ_name)"
   ]
  },
  {
   "cell_type": "markdown",
   "metadata": {},
   "source": [
    "# SET PARAMETERS FOR THE PLOTS"
   ]
  },
  {
   "cell_type": "code",
   "execution_count": null,
   "metadata": {},
   "outputs": [],
   "source": [
    "sns.set_style(\"ticks\")\n",
    "fontsize_written=35\n",
    "fontsize_ticks=35\n",
    "lw=15\n",
    "ms=25\n",
    "s_size=(18,15)"
   ]
  },
  {
   "cell_type": "code",
   "execution_count": null,
   "metadata": {},
   "outputs": [],
   "source": [
    "cmap1 = plt.get_cmap(\"tab20\")\n",
    "cmap2 = plt.get_cmap(\"tab20b\")\n",
    "colors= np.concatenate((cmap1(np.arange(20)), cmap2(np.arange(20))))"
   ]
  },
  {
   "cell_type": "markdown",
   "metadata": {},
   "source": [
    "# Organs Color Legend"
   ]
  },
  {
   "cell_type": "code",
   "execution_count": null,
   "metadata": {},
   "outputs": [],
   "source": [
    "fig,ax=plt.subplots(figsize=(0.1,0.1))\n",
    "for idx,i in enumerate(tm):\n",
    "    plt.plot(0, 0, 'o',lw=8,color=colors[idx], label=i)\n",
    "lgd = plt.legend(ncol=3, bbox_to_anchor=(10, -8), fontsize=25, frameon=True, \n",
    "                 markerscale=5, fancybox=True)\n",
    "plt.show()"
   ]
  },
  {
   "cell_type": "markdown",
   "metadata": {},
   "source": [
    "# The single-cell Transcriptome as a Component System"
   ]
  },
  {
   "cell_type": "markdown",
   "metadata": {},
   "source": [
    "## Statistical laws in single-cell RNA sequencing data"
   ]
  },
  {
   "cell_type": "markdown",
   "metadata": {},
   "source": [
    "# FIGURE 1\n",
    "## Rank plots"
   ]
  },
  {
   "cell_type": "markdown",
   "metadata": {},
   "source": [
    "Below it's reported the code used to realize the plots in panel (B) and (D) of Figure 1. Panel (B) is the rank plot for all the organs of tabula muris FACS data sets, while panel (D) is the rank plot of the 100 more sequenced cells of the organ 'Heart'. If needed, you can use any data set organ."
   ]
  },
  {
   "cell_type": "code",
   "execution_count": null,
   "metadata": {},
   "outputs": [],
   "source": [
    "def rank_plots_1B(path_data_counts, fontsize_written, fontsize_ticks, lw, size=s_size):\n",
    "    def func(x, a,b):\n",
    "        return b/(x**a)\n",
    "    fig,ax=plt.subplots(figsize=size)\n",
    "    for i,organ in enumerate(os.listdir(path_data_counts)):\n",
    "        path_data_=path_data_counts/organ\n",
    "        organ_counts=np.load(str(path_data_), allow_pickle=True).astype('float32')\n",
    "        genes_num=organ_counts.shape[0]\n",
    "        mge=np.mean(organ_counts,axis=1)\n",
    "        mge_=mge/np.sum(mge, axis=0)\n",
    "        ax.plot(np.sort(mge_)[::-1], lw=lw, color=colors[i], alpha=0.7)\n",
    "    x=np.linspace(1,genes_num, num=genes_num+1)\n",
    "    ax.plot(x, func(x,0.8,0.1),'--', lw=20, color='gray')\n",
    "    plt.annotate(\"$k*i^{-0.8}$\",xy=(10000,0.1) ,xytext=(100,0.01), fontsize=fontsize_written, color='black')  \n",
    "    plt.xscale('log')\n",
    "    plt.yscale('log')\n",
    "    plt.xlabel('Rank, $i$', fontsize=fontsize_written)\n",
    "    plt.ylabel('Frequency, $f_i$', fontsize=fontsize_written)\n",
    "    plt.tick_params(labelsize=fontsize_ticks, width=8, length=20)\n",
    "    plt.show() "
   ]
  },
  {
   "cell_type": "code",
   "execution_count": null,
   "metadata": {},
   "outputs": [],
   "source": [
    "rank_plots_1B(path_data_counts, fontsize_written, fontsize_ticks, lw, size=s_size)   "
   ]
  },
  {
   "cell_type": "code",
   "execution_count": null,
   "metadata": {},
   "outputs": [],
   "source": [
    "def rank_plots_1D(path_data_counts, organ_name, fontsize_written, fontsize_ticks, size=s_size):\n",
    "    def func(x, a,b):\n",
    "        return b/(x**a)\n",
    "    fig,ax=plt.subplots(figsize=size)\n",
    "    organ='{}.npy'.format(organ_name)\n",
    "    path_data_=path_data_counts/organ\n",
    "    organ_counts=np.load(str(path_data_), allow_pickle=True).astype('float32')\n",
    "    genes_num=organ_counts.shape[0]\n",
    "    not_zeros_cells=[(np.argwhere(organ_counts[:,j]>0)).shape[0] for j in range(organ_counts.shape[1])]\n",
    "    idx_sort=np.argsort(not_zeros_cells)[::-1][:100]\n",
    "    for idx in idx_sort:\n",
    "        cell = organ_counts[:,idx]\n",
    "        cell_ = np.sort(cell)[::-1]/np.sum(cell)\n",
    "        plt.plot(cell_,'-',lw=3)\n",
    "    x=np.linspace(1,genes_num, num=genes_num+1)\n",
    "    ax.plot(x, func(x,0.8,0.1),'--', lw=20, color='gray')\n",
    "    plt.annotate(\"$k*i^{-0.8}$\",xy=(10000,0.1) ,xytext=(100,0.01), fontsize=fontsize_written, color='black')  \n",
    "    plt.xscale('log')\n",
    "    plt.yscale('log')\n",
    "    plt.xlabel('Rank, $i$', fontsize=fontsize_written)\n",
    "    plt.ylabel('Frequency, $f_i$', fontsize=fontsize_written)\n",
    "    plt.tick_params(labelsize=fontsize_ticks, width=8, length=20)\n",
    "    plt.show()"
   ]
  },
  {
   "cell_type": "code",
   "execution_count": null,
   "metadata": {},
   "outputs": [],
   "source": [
    "rank_plots_1D(path_data_counts, 'Heart', fontsize_written, fontsize_ticks,size=s_size)"
   ]
  },
  {
   "cell_type": "markdown",
   "metadata": {},
   "source": [
    "# FIGURE 5 \n",
    "## $CV^2$ vs. mean gene expression"
   ]
  },
  {
   "cell_type": "markdown",
   "metadata": {},
   "source": [
    "Below the code to realize panel B of Figure 5. Or rather, the scatterplot of $CV^2$, defined as:\n",
    "\n",
    "$CV^2=\\sigma^2/mg^2$\n",
    "\n",
    "in function of the mean gene expression $mg$.\n",
    "\n",
    "We need the mean gene expression calculated over all the cells in the data sets and the correpondent values for $CV^2$. This informations,based on the data set version *** are reported in the file \"data_all.pkl\". \n",
    "\n",
    "If the data set had undergone changes from the version considered here, please use the same functions applied to the current data set."
   ]
  },
  {
   "cell_type": "code",
   "execution_count": null,
   "metadata": {},
   "outputs": [],
   "source": [
    "with open(str(path_all_data/\"data_all.pkl\"),\"rb\") as file:\n",
    "    data = pickle.load(file)\n",
    "means = data['means']\n",
    "var = data['var']\n",
    "cv2 = data['cv2']"
   ]
  },
  {
   "cell_type": "markdown",
   "metadata": {},
   "source": [
    "We want to use just the genes which have enough statistics, so we considered that ones with at least a total number of counts equal to the $98\\%$ of cells number. You can choose a different bound."
   ]
  },
  {
   "cell_type": "code",
   "execution_count": null,
   "metadata": {},
   "outputs": [],
   "source": [
    "genes_on=np.zeros(23432)\n",
    "lim=55*10**3*0.98\n",
    "for organ in os.listdir(path_data_counts):\n",
    "    path_data_=path_data_counts/organ\n",
    "    organ_counts=np.load(str(path_data_), allow_pickle=True).astype('float32')\n",
    "    genes_on_organ=np.sum(organ_counts,axis=1)\n",
    "    genes_on = genes_on + genes_on_organ\n",
    "genes_good = np.concatenate(np.argwhere(genes_on>lim))"
   ]
  },
  {
   "cell_type": "code",
   "execution_count": null,
   "metadata": {},
   "outputs": [],
   "source": [
    "def scatterdense(x, y, ax=None, nbins=80, colorbar=True, c_title=\"density\", **kwargs):\n",
    "    xmin = np.log10(min(x[x>0]))\n",
    "    xmax = np.log10(max(x))\n",
    "    ymin = np.log10(min(y[y>0]))\n",
    "    ymax = np.log10(max(y))\n",
    "\n",
    "    xbins = np.logspace(xmin, xmax, nbins) # <- make a range from 10**xmin to 10**xmax\n",
    "    ybins = np.logspace(ymin, ymax, nbins) # <- make a range from 10**ymin to 10**ymax\n",
    "    data , x_e, y_e = np.histogram2d(x, y, bins = (xbins, ybins))\n",
    "    z = interpn( ( 0.5*(x_e[1:] + x_e[:-1]) , 0.5*(y_e[1:]+y_e[:-1]) ) , data , np.vstack([x,y]).T , method = \"splinef2d\", bounds_error = False )\n",
    "\n",
    "    idx = z.argsort()\n",
    "    x, y, z = x[idx], y[idx], z[idx]\n",
    "    if ax is None:\n",
    "        fig=plt.figure()\n",
    "        ax=fig.subplots()\n",
    "    ax.scatter(x, y, c=z, s=225, alpha=0.5, cmap=\"viridis\", **kwargs)\n",
    "    if colorbar:\n",
    "        from matplotlib import cm\n",
    "        import matplotlib\n",
    "        cbar = ax.get_figure().colorbar(cm.ScalarMappable(norm=matplotlib.colors.Normalize(vmin=1, vmax=max(z)), cmap=\"viridis\"), ax=ax)\n",
    "        cbar.ax.set_ylabel(c_title, fontsize=20)\n",
    "        cbar.ax.tick_params(labelsize=20)"
   ]
  },
  {
   "cell_type": "code",
   "execution_count": null,
   "metadata": {},
   "outputs": [],
   "source": [
    "def plotcv2mean(means, variances, ax=None, normalisation_str = \"counts\", poisson_limit=1, colorbar=True, **kwargs):\n",
    "    if ax is None:\n",
    "        fig=plt.figure(figsize=(18,15))\n",
    "        ax=fig.subplots()\n",
    "    x_lin = np.logspace(np.log10(np.nanmin(means)),np.log10(np.nanmax(means)), dtype=float,num=50)\n",
    "    cv2 = np.array([variances[i]/(np.power(mean,2)) for i,mean in enumerate(means) if mean>0])\n",
    "    scatterdense(means[means>0], cv2,ax=ax, label=\"data\", colorbar=colorbar, c_title=\"Number of genes\", **kwargs)   \n",
    "    sort_pos=np.sort(means[np.argwhere(means>0)])\n",
    "    k = np.argwhere(sort_pos>10)[0]\n",
    "    t=np.linspace(0,10**4,num=1000)\n",
    "    t2=np.linspace(1,10**4,num=1000)\n",
    "    p=np.linspace(10**(-5),1,num=1000)\n",
    "    bound=60000 -1 \n",
    "    ax.plot(t,np.repeat(bound,1000),'--',lw=15, color='orange',label='R-1')\n",
    "    ax.plot(p,1/p,'--',lw=15, color='red',label='$m_g^{-1}}$ (Poisson)')\n",
    "    ax.plot(t2,np.repeat(1,1000),'--',lw=15, color='blue',label='1 (Taylor)')\n",
    "    \n",
    "    ax.tick_params(labelsize=35, width=5, length=10, which=\"minor\")\n",
    "    \n",
    "    ax.set_ylabel(\"Coefficient of variation squared, $CV^2_g$\", fontsize=35)\n",
    "    ax.set_xlabel(\"Mean expression level, $m_g$\", fontsize=35)\n",
    "    ax.set_xscale('log')\n",
    "    ax.set_yscale('log')\n",
    "    ax.set_xlim(means[means>0].min()*0.9,np.power(10,np.log10(np.nanmax(means))+1))\n",
    "    ax.legend(fontsize=24)\n",
    "    plt.show()"
   ]
  },
  {
   "cell_type": "code",
   "execution_count": null,
   "metadata": {},
   "outputs": [],
   "source": [
    "#means_,var_ = means[genes_good], var[genes_good]\n",
    "plotcv2mean(means, var, ax=None, normalisation_str = \"counts\", poisson_limit=1, colorbar=True)"
   ]
  },
  {
   "cell_type": "markdown",
   "metadata": {},
   "source": [
    "# FIGURE 6\n",
    "## Probability density function to count a gene in N cells"
   ]
  },
  {
   "cell_type": "markdown",
   "metadata": {},
   "source": [
    "In this section it's reported the code to realize the panel B of Figure 6. \n",
    "\n",
    "It represent the Probability that a gene is turned-on in n cells, compared with the Sampling Model."
   ]
  },
  {
   "cell_type": "markdown",
   "metadata": {},
   "source": [
    "## Sampling Model"
   ]
  },
  {
   "cell_type": "code",
   "execution_count": null,
   "metadata": {},
   "outputs": [],
   "source": [
    "def sampling_model_organ(path_data_counts, organ_name, path_sampling):\n",
    "    rs = np.random.RandomState(seed=42)\n",
    "    path_data_= path_data_counts/'{}.npy'.format(organ_name)\n",
    "    path_save=path_sampling/'{}.npy'.format(organ_name)\n",
    "    organ_counts=np.load(str(path_data_), allow_pickle=True).astype('float32')\n",
    "    mean=np.mean(organ_counts, axis=1)\n",
    "    n_genes=organ_counts.shape[0]\n",
    "    n_cells=organ_counts.shape[1]\n",
    "    fake_organ=np.zeros((organ_counts.shape)).astype('float32')\n",
    "    pdf= mean/(np.sum(mean, axis=0)+10**4)\n",
    "    for i in range(n_cells):\n",
    "        fake_col=np.mean(np.random.multinomial(int(np.sum(organ_counts,axis=0)[i]), pdf, size=5),axis=0)               \n",
    "        fake_organ[:,i]= np.array(fake_col)\n",
    "        fake_organ= fake_organ.reshape((n_genes,n_cells))\n",
    "        np.save(str(path_save),fake_organ)"
   ]
  },
  {
   "cell_type": "markdown",
   "metadata": {},
   "source": [
    "Using the previous function we produce a random sampling fake-organ which genes respect the same rank plot of the original one. We used as example Bone Marrow but you can do the same with any organ by changing the parameter 'organ_name'"
   ]
  },
  {
   "cell_type": "code",
   "execution_count": null,
   "metadata": {},
   "outputs": [],
   "source": [
    "sampling_model_organ(path_data_counts, 'Marrow', path_sampling_model)"
   ]
  },
  {
   "cell_type": "code",
   "execution_count": null,
   "metadata": {},
   "outputs": [],
   "source": [
    "organ='Bone_Marrow.npy'\n",
    "path_data_=path_data_counts/organ\n",
    "path_sampling_organ=path_sampling_model/organ\n",
    "            \n",
    "organ_counts=np.load(str(path_data_), allow_pickle=True).astype('float32')\n",
    "sampling=np.load(str(path_sampling_organ), allow_pickle=True).astype('float32')\n",
    "\n",
    "cells_num=sampling.shape[1]\n",
    "\n",
    "U_counts = [np.argwhere(organ_counts[i,:]>0).shape[0] for i in range(organ_counts.shape[0])]\n",
    "U_counts=np.array(U_counts)/cells_num\n",
    "\n",
    "U_sampling = [np.argwhere(sampling[i,:]>0).shape[0] for i in range(sampling.shape[0])]\n",
    "U_sampling =np.array(U_sampling)/cells_num"
   ]
  },
  {
   "cell_type": "code",
   "execution_count": null,
   "metadata": {},
   "outputs": [],
   "source": [
    "fig,ax=plt.subplots(figsize=s_size)\n",
    "r=np.linspace(-4,0.05,10)\n",
    "binsx=[10**i for i in r]\n",
    "plt.hist(U_counts, histtype='step',density=True,  bins=binsx, lw=10, color='gray', label='data')\n",
    "plt.hist(U_counts, histtype='stepfilled', density=True, alpha=0.5, bins=binsx, color='gray')\n",
    "plt.hist(U_sampling, histtype='step',density=True,bins=binsx, lw=10, color='red', label='Sampling')\n",
    "plt.xscale('log')\n",
    "plt.yscale('log')\n",
    "plt.legend(loc='upper right', fontsize=fontsize_written)\n",
    "plt.xlabel(\"Occurrence, $O_i$\",fontsize=fontsize_written)\n",
    "plt.ylabel('Number of genes',fontsize=fontsize_written)\n",
    "plt.tick_params(labelsize=fontsize_ticks, length=20, width=8)\n",
    "plt.tick_params(axis='both',which='minor', bottom=True,width=6,length=10, labelsize=18)"
   ]
  },
  {
   "cell_type": "markdown",
   "metadata": {},
   "source": [
    "# SUPPLEMENTARY MATERIALS"
   ]
  },
  {
   "cell_type": "markdown",
   "metadata": {},
   "source": [
    "# FIGURE S1\n",
    "## Rank Plot of 100 \"Bone Marrow\" cells  (Mouse Cell Atlas data set)"
   ]
  },
  {
   "cell_type": "markdown",
   "metadata": {},
   "source": [
    "The first plot of the Supplementary material is the rank plot of the 100 more sequenced cells of the organ 'Bone Marrow' from the data set \"Mouse Cell Atlas\". You can download data from:\n",
    "\n",
    "https://ndownloader.figshare.com/articles/5435866/versions/8\n",
    "\n",
    "Put the organ you want to analyze in the path defined as: path_csv_mca.\n",
    "\n",
    "Then, you can apply the following function to get the data ready for the analysis:"
   ]
  },
  {
   "cell_type": "code",
   "execution_count": null,
   "metadata": {},
   "outputs": [],
   "source": [
    "save_count_matrices(path_csv_mca,path_data_mca, organ_name)"
   ]
  },
  {
   "cell_type": "code",
   "execution_count": null,
   "metadata": {},
   "outputs": [],
   "source": [
    "rank_plots_1D(path_data_mca,'Bone_Marrow', fontsize_written, fontsize_ticks,size=s_size)"
   ]
  },
  {
   "cell_type": "markdown",
   "metadata": {},
   "source": [
    "# FIGURE S2\n",
    "## Heaps function for Tabula Muris"
   ]
  },
  {
   "cell_type": "markdown",
   "metadata": {},
   "source": [
    "The second Supplementary Materials panel represents the number of genes counts in function of the cell size, function that we call \"Heaps\". \n",
    "\n",
    "(A) is the Heaps function for the real counts of \"Bone Marrow\", its bin and that one from the random sampling model, in Log-Log scale.\n",
    "\n",
    "(B) is the binned Heaps for all the data set organs, in Log-Log scale."
   ]
  },
  {
   "cell_type": "code",
   "execution_count": null,
   "metadata": {},
   "outputs": [],
   "source": [
    "def heaps_single_organ_null(path_data_counts, path_data_sampling, organ_name):\n",
    "    organ='{}.npy'.format(organ_name)       \n",
    "    organ_counts=np.load(str(path_data_counts/organ), allow_pickle=True).astype('float32')         \n",
    "    sampling_data = np.load(str(path_data_sampling/organ), allow_pickle=True).astype('float32')          \n",
    "    cells_size=np.sum(organ_counts,axis=0)\n",
    "    n_genes=np.array([np.argwhere(organ_counts[:,i]>0).shape[0] for i in range(organ_counts.shape[1])])\n",
    "    n_genes_sampling=np.array([np.argwhere(sampling_data[:,j]>0).shape[0] for j in range(organ_counts.shape[1])])\n",
    "    return cells_size, n_genes, n_genes_sampling"
   ]
  },
  {
   "cell_type": "code",
   "execution_count": null,
   "metadata": {},
   "outputs": [],
   "source": [
    "cells_size, n_genes, n_genes_sampling =heaps_single_organ_null(path_data_counts, path_sampling_model, 'Bone_Marrow')"
   ]
  },
  {
   "cell_type": "code",
   "execution_count": null,
   "metadata": {},
   "outputs": [],
   "source": [
    "a = np.arange(start=5,stop=7, step=0.1)\n",
    "xbins=[10**i for i in a]\n",
    "n_genes_binned,cells_size_binned,bin_num1=stats.binned_statistic(cells_size,n_genes, 'mean', bins=xbins) "
   ]
  },
  {
   "cell_type": "code",
   "execution_count": null,
   "metadata": {},
   "outputs": [],
   "source": [
    "fig,ax=plt.subplots(figsize=(18,15))    \n",
    "plt.plot(cells_size,n_genes,'o', color='gray', alpha=0.3, ms=15, label='data') #fillstyle='none',\n",
    "plt.plot(cells_size_binned[2:12],n_genes_binned[2:12],'-o',lw=10, ms=25, alpha=0.8, color='blue',\n",
    "                     label='binned data')\n",
    "plt.plot(cells_size,n_genes_sampling,'o',color='red', alpha=0.3, ms=15,label='sampling model')\n",
    "plt.xscale('log')\n",
    "plt.yscale('log')        \n",
    "plt.xlabel('Reads per cell',fontsize=fontsize_written) \n",
    "plt.ylabel('Number of expressed genes',fontsize=fontsize_written)\n",
    "plt.tick_params(labelsize=fontsize_ticks, length=20, width=8)\n",
    "plt.legend(fontsize=fontsize_written)\n",
    "plt.show()"
   ]
  },
  {
   "cell_type": "code",
   "execution_count": null,
   "metadata": {},
   "outputs": [],
   "source": [
    "def heaps(path_data_counts):\n",
    "    fig,ax=plt.subplots(figsize=(18,15))\n",
    "    for i,organ in enumerate(os.listdir(path_data_counts)): \n",
    "        organ_counts=np.load(str(path_data_counts/organ), allow_pickle=True).astype('float32')\n",
    "        cells=organ_counts.shape[1]\n",
    "        cells_size=np.sum(organ_counts,axis=0)\n",
    "        n_genes=np.array([np.argwhere(organ_counts[:,j]>0).shape[0] for j in range(cells)])\n",
    "        a = np.linspace(start=3,stop=np.log10(np.max(cells_size)), num=12)\n",
    "        xbins=[10**i for i in a]\n",
    "        n_genes_binned_,cells_size_binned_,bin_num1=stats.binned_statistic(cells_size,n_genes, 'mean', bins=xbins)\n",
    "        plt.plot(cells_size_binned_[1:10],n_genes_binned_[1:10],'o-', lw=5, alpha=0.8, color=colors[i], ms=25)\n",
    "        plt.xscale('log')\n",
    "        plt.yscale('log')               \n",
    "    plt.xlabel('Reads per cell',fontsize=fontsize_written)\n",
    "    plt.ylabel('Number of expressed genes',fontsize=fontsize_written)\n",
    "    plt.tick_params(axis='both', labelsize=fontsize_ticks, length=20, width=8)\n",
    "    plt.tick_params(axis='both',which='minor', bottom=False)\n",
    "    ax.yaxis.set_minor_locator(plt.NullLocator())\n",
    "    ax.xaxis.set_minor_formatter(plt.NullFormatter())\n",
    "heaps(path_data_counts)"
   ]
  },
  {
   "cell_type": "markdown",
   "metadata": {},
   "source": [
    "# FIGURE S3\n",
    "## Tabula Muris Size distribution"
   ]
  },
  {
   "cell_type": "code",
   "execution_count": null,
   "metadata": {},
   "outputs": [],
   "source": [
    "M=[]\n",
    "for i,organ in enumerate(os.listdir(path_data_counts)):\n",
    "    path_data_=path_data_counts/organ\n",
    "    organ_counts=np.load(str(path_data_), allow_pickle=True).astype('float32')\n",
    "    M_o=np.sum(organ_counts,axis=0)\n",
    "    M.append(list(M_o))\n",
    "M = np.array(M)"
   ]
  },
  {
   "cell_type": "code",
   "execution_count": null,
   "metadata": {},
   "outputs": [],
   "source": [
    "M_=[]\n",
    "for i in range(M.shape[0]):\n",
    "    M_.append(np.array(M[i]))\n",
    "M_=np.array(M_)\n",
    "M_= np.concatenate(M_)\n",
    "avg=np.mean(M_)\n",
    "mediana=np.median(M_)\n",
    "fig=plt.figure(figsize=(18,15))\n",
    "a = np.arange(start=np.log10(0.8*100000),stop=8, step=0.01)\n",
    "xbins=[10**i for i in a]\n",
    "plt.hist(M_, bins=xbins, histtype='step', lw=10, density=True, color='r' )\n",
    "plt.plot(np.repeat(avg,1000),np.linspace(0,0.000001,num=1000), '-.', lw=8, color='black')\n",
    "plt.annotate(\"Average: ${}$\".format(np.round_(avg,decimals=0)),xy=(avg+200000,0.0000008) ,xytext=(avg+200000,0.0000008), fontsize=fontsize_written, color='black')  \n",
    "plt.xscale('log')\n",
    "plt.xlabel('Reads per cell, $M$', fontsize=fontsize_written)\n",
    "plt.ylabel('Probability density function',fontsize=fontsize_written)\n",
    "plt.tick_params(labelsize=fontsize_ticks,  width=8, length=20)"
   ]
  },
  {
   "cell_type": "markdown",
   "metadata": {},
   "source": [
    "# FIGURE S4\n",
    "## Fraction of Trancriptome described"
   ]
  },
  {
   "cell_type": "code",
   "execution_count": null,
   "metadata": {},
   "outputs": [],
   "source": [
    "def transcriptome_rank_counts(path_data_counts, fontsize_written, fontsize_ticks, size):\n",
    "    fig,ax=plt.subplots(figsize=size)\n",
    "    for i,organ in enumerate(os.listdir(path_data_counts)):\n",
    "        path_data_=path_data_counts/organ\n",
    "        organ_counts=np.load(str(path_data_), allow_pickle=True).astype('float32')\n",
    "        size=np.sum(organ_counts,axis=0)\n",
    "        F=np.sum(size)\n",
    "        transc=organ_counts/np.float(F)\n",
    "        n_cells=transc.shape[1]\n",
    "        mean_genes = np.mean(transc, axis=1)\n",
    "        mean_genes = mean_genes/np.sum(mean_genes)\n",
    "        mean_cells = np.mean(transc, axis=0)\n",
    "        cumsum_mean=np.cumsum((np.sort(mean_genes)[::-1]))\n",
    "        ax.plot(cumsum_mean, '-', color=colors[i], lw=15, alpha=0.7)\n",
    "        plt.xlim(left=1)\n",
    "        plt.xscale('log')\n",
    "        plt.ylabel('Fraction of transcriptome descibed', fontsize=fontsize_written)\n",
    "        plt.xlabel('Number of genes', fontsize=fontsize_written)  \n",
    "        plt.tick_params(labelsize=fontsize_ticks, length=20, width=8)\n",
    "    plt.show()\n",
    "transcriptome_rank_counts(path_data_counts,fontsize_written, fontsize_ticks, size=s_size)"
   ]
  }
 ],
 "metadata": {
  "kernelspec": {
   "display_name": "Python 3",
   "language": "python",
   "name": "python3"
  },
  "language_info": {
   "codemirror_mode": {
    "name": "ipython",
    "version": 3
   },
   "file_extension": ".py",
   "mimetype": "text/x-python",
   "name": "python",
   "nbconvert_exporter": "python",
   "pygments_lexer": "ipython3",
   "version": "3.7.4"
  }
 },
 "nbformat": 4,
 "nbformat_minor": 2
}
